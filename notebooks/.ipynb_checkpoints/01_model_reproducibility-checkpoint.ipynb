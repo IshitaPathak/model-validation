{
 "cells": [
  {
   "cell_type": "markdown",
   "metadata": {},
   "source": [
    "# Model Reproducibility\n",
    "\n",
    "### **Task 2:**\n",
    "\n",
    "* Read the scientific publication and identify a result you could reproduce from the paper. Hint: explain in your GitHub issue for which dataset are you going to reproduce the results given in the publicatioon.\n",
    "\n",
    "* Try to implement the model as described by the authors (not from the Ersilia Model Hub) and reproduce the results selected from the paper. Make sure to include the results evaluation in your repositoiy.\n",
    "\n",
    "* Check that the model provides the same results when running via the Ersilia Model Hub.\n",
    "\n",
    "In this notebook I will reproduce one of the examples from the publication associated to the model and make sure the Ersilia Model Hub implementation is giving the same results."
   ]
  },
  {
   "cell_type": "code",
   "execution_count": 184,
   "metadata": {},
   "outputs": [],
   "source": [
    "# In this codeblock I will import the necessary packages and specify the paths to relevant folders\n",
    "import pandas as pd\n",
    "import numpy as np\n",
    "import os\n",
    "import sys\n",
    "sys.path.append('../src')\n",
    "from smiles_processing import standardise_smiles\n",
    "import matplotlib.pyplot as plt\n",
    "import seaborn as sns\n",
    "# from sklearn.metrics import roc_auc_score\n",
    "from sklearn.metrics import roc_curve, auc"
   ]
  },
  {
   "cell_type": "code",
   "execution_count": 185,
   "metadata": {},
   "outputs": [
    {
     "data": {
      "text/html": [
       "<div>\n",
       "<style scoped>\n",
       "    .dataframe tbody tr th:only-of-type {\n",
       "        vertical-align: middle;\n",
       "    }\n",
       "\n",
       "    .dataframe tbody tr th {\n",
       "        vertical-align: top;\n",
       "    }\n",
       "\n",
       "    .dataframe thead th {\n",
       "        text-align: right;\n",
       "    }\n",
       "</style>\n",
       "<table border=\"1\" class=\"dataframe\">\n",
       "  <thead>\n",
       "    <tr style=\"text-align: right;\">\n",
       "      <th></th>\n",
       "      <th>Table S6. Detailed predictions for 1,824 approved drugs by deephERG</th>\n",
       "      <th>Unnamed: 1</th>\n",
       "      <th>Unnamed: 2</th>\n",
       "      <th>Unnamed: 3</th>\n",
       "      <th>Unnamed: 4</th>\n",
       "      <th>Unnamed: 5</th>\n",
       "    </tr>\n",
       "  </thead>\n",
       "  <tbody>\n",
       "    <tr>\n",
       "      <th>0</th>\n",
       "      <td>DrugBank ID</td>\n",
       "      <td>Smiles</td>\n",
       "      <td>Name</td>\n",
       "      <td>Predicted negative probability</td>\n",
       "      <td>Predicted positive probability</td>\n",
       "      <td>Predicted classification</td>\n",
       "    </tr>\n",
       "    <tr>\n",
       "      <th>1</th>\n",
       "      <td>DB11581</td>\n",
       "      <td>Clc1ccc(cc1)C=1CC(CCC=1CN1CCN(CC1)c1cc(Oc2cc3c...</td>\n",
       "      <td>Venetoclax</td>\n",
       "      <td>0.165396</td>\n",
       "      <td>0.834604</td>\n",
       "      <td>1</td>\n",
       "    </tr>\n",
       "    <tr>\n",
       "      <th>2</th>\n",
       "      <td>DB11575</td>\n",
       "      <td>S(=O)(=O)(N=C(O)[C@@]1(N=C(O)[C@H]2N3C[C@H](Oc...</td>\n",
       "      <td>Grazoprevir</td>\n",
       "      <td>0.685339</td>\n",
       "      <td>0.314661</td>\n",
       "      <td>0</td>\n",
       "    </tr>\n",
       "    <tr>\n",
       "      <th>3</th>\n",
       "      <td>DB11574</td>\n",
       "      <td>O1c2cc(ccc2-c2n(c3c(cc(cc3)-c3nc([nH]c3)[C@H]3...</td>\n",
       "      <td>Elbasvir</td>\n",
       "      <td>0.148685</td>\n",
       "      <td>0.851315</td>\n",
       "      <td>1</td>\n",
       "    </tr>\n",
       "    <tr>\n",
       "      <th>4</th>\n",
       "      <td>DB11560</td>\n",
       "      <td>Brc1nnc(SCC(O)=O)n1-c1c2c(cccc2)c(cc1)C1CC1</td>\n",
       "      <td>Lesinurad</td>\n",
       "      <td>0.875724</td>\n",
       "      <td>0.124276</td>\n",
       "      <td>0</td>\n",
       "    </tr>\n",
       "    <tr>\n",
       "      <th>...</th>\n",
       "      <td>...</td>\n",
       "      <td>...</td>\n",
       "      <td>...</td>\n",
       "      <td>...</td>\n",
       "      <td>...</td>\n",
       "      <td>...</td>\n",
       "    </tr>\n",
       "    <tr>\n",
       "      <th>1820</th>\n",
       "      <td>DB00091</td>\n",
       "      <td>OC1=NC(CC)C(=O)N(CC(=O)N(C)C(CC(C)C)C(O)=NC(C(...</td>\n",
       "      <td>Cyclosporine</td>\n",
       "      <td>0.065335</td>\n",
       "      <td>0.934665</td>\n",
       "      <td>1</td>\n",
       "    </tr>\n",
       "    <tr>\n",
       "      <th>1821</th>\n",
       "      <td>DB00050</td>\n",
       "      <td>Clc1ccc(cc1)C[C@@H](NC(=O)[C@H](NC(=O)C)Cc1cc2...</td>\n",
       "      <td>Cetrorelix</td>\n",
       "      <td>0.0</td>\n",
       "      <td>1</td>\n",
       "      <td>1</td>\n",
       "    </tr>\n",
       "    <tr>\n",
       "      <th>1822</th>\n",
       "      <td>DB00035</td>\n",
       "      <td>S1SCCC(=O)N[C@@H](Cc2ccc(O)cc2)C(=O)N[C@@H](Cc...</td>\n",
       "      <td>Desmopressin</td>\n",
       "      <td>0.205416</td>\n",
       "      <td>0.794584</td>\n",
       "      <td>1</td>\n",
       "    </tr>\n",
       "    <tr>\n",
       "      <th>1823</th>\n",
       "      <td>DB00014</td>\n",
       "      <td>Oc1ccc(cc1)C[C@H](NC(=O)[C@@H](NC(=O)[C@@H](NC...</td>\n",
       "      <td>Goserelin</td>\n",
       "      <td>0.000056</td>\n",
       "      <td>0.999944</td>\n",
       "      <td>1</td>\n",
       "    </tr>\n",
       "    <tr>\n",
       "      <th>1824</th>\n",
       "      <td>DB00006</td>\n",
       "      <td>Oc1ccc(cc1)C[C@H](NC(=O)[C@@H](NC(=O)[C@@H](NC...</td>\n",
       "      <td>Bivalirudin</td>\n",
       "      <td>0</td>\n",
       "      <td>1</td>\n",
       "      <td>1</td>\n",
       "    </tr>\n",
       "  </tbody>\n",
       "</table>\n",
       "<p>1825 rows × 6 columns</p>\n",
       "</div>"
      ],
      "text/plain": [
       "     Table S6. Detailed predictions for 1,824 approved drugs by deephERG  \\\n",
       "0                                           DrugBank ID                    \n",
       "1                                               DB11581                    \n",
       "2                                               DB11575                    \n",
       "3                                               DB11574                    \n",
       "4                                               DB11560                    \n",
       "...                                                 ...                    \n",
       "1820                                            DB00091                    \n",
       "1821                                            DB00050                    \n",
       "1822                                            DB00035                    \n",
       "1823                                            DB00014                    \n",
       "1824                                            DB00006                    \n",
       "\n",
       "                                             Unnamed: 1    Unnamed: 2  \\\n",
       "0                                                Smiles          Name   \n",
       "1     Clc1ccc(cc1)C=1CC(CCC=1CN1CCN(CC1)c1cc(Oc2cc3c...    Venetoclax   \n",
       "2     S(=O)(=O)(N=C(O)[C@@]1(N=C(O)[C@H]2N3C[C@H](Oc...   Grazoprevir   \n",
       "3     O1c2cc(ccc2-c2n(c3c(cc(cc3)-c3nc([nH]c3)[C@H]3...      Elbasvir   \n",
       "4           Brc1nnc(SCC(O)=O)n1-c1c2c(cccc2)c(cc1)C1CC1     Lesinurad   \n",
       "...                                                 ...           ...   \n",
       "1820  OC1=NC(CC)C(=O)N(CC(=O)N(C)C(CC(C)C)C(O)=NC(C(...  Cyclosporine   \n",
       "1821  Clc1ccc(cc1)C[C@@H](NC(=O)[C@H](NC(=O)C)Cc1cc2...    Cetrorelix   \n",
       "1822  S1SCCC(=O)N[C@@H](Cc2ccc(O)cc2)C(=O)N[C@@H](Cc...  Desmopressin   \n",
       "1823  Oc1ccc(cc1)C[C@H](NC(=O)[C@@H](NC(=O)[C@@H](NC...     Goserelin   \n",
       "1824  Oc1ccc(cc1)C[C@H](NC(=O)[C@@H](NC(=O)[C@@H](NC...   Bivalirudin   \n",
       "\n",
       "                          Unnamed: 3                      Unnamed: 4  \\\n",
       "0     Predicted negative probability  Predicted positive probability   \n",
       "1                           0.165396                        0.834604   \n",
       "2                           0.685339                        0.314661   \n",
       "3                           0.148685                        0.851315   \n",
       "4                           0.875724                        0.124276   \n",
       "...                              ...                             ...   \n",
       "1820                        0.065335                        0.934665   \n",
       "1821                             0.0                               1   \n",
       "1822                        0.205416                        0.794584   \n",
       "1823                        0.000056                        0.999944   \n",
       "1824                               0                               1   \n",
       "\n",
       "                    Unnamed: 5  \n",
       "0     Predicted classification  \n",
       "1                            1  \n",
       "2                            0  \n",
       "3                            1  \n",
       "4                            0  \n",
       "...                        ...  \n",
       "1820                         1  \n",
       "1821                         1  \n",
       "1822                         1  \n",
       "1823                         1  \n",
       "1824                         1  \n",
       "\n",
       "[1825 rows x 6 columns]"
      ]
     },
     "execution_count": 185,
     "metadata": {},
     "output_type": "execute_result"
    }
   ],
   "source": [
    "# In this codeblock I will load the predictions obtained from the original author's code implementation from the /data folder\n",
    "\n",
    "# Here I have selected Table6 where author have taken 1,824 FDA approved small molecule drugs from DrugBank database.\n",
    "# Out of 1,824 approved small molecule drugs, deephERG predicted that 539 drugs (29.6%) might have hERG inhibitory effects\n",
    "# i.e 539 drugs could block hERG.\n",
    "\n",
    "df = pd.read_excel('../data/Table S6.xlsx')\n",
    "df"
   ]
  },
  {
   "cell_type": "code",
   "execution_count": 186,
   "metadata": {},
   "outputs": [
    {
     "data": {
      "text/html": [
       "<div>\n",
       "<style scoped>\n",
       "    .dataframe tbody tr th:only-of-type {\n",
       "        vertical-align: middle;\n",
       "    }\n",
       "\n",
       "    .dataframe tbody tr th {\n",
       "        vertical-align: top;\n",
       "    }\n",
       "\n",
       "    .dataframe thead th {\n",
       "        text-align: right;\n",
       "    }\n",
       "</style>\n",
       "<table border=\"1\" class=\"dataframe\">\n",
       "  <thead>\n",
       "    <tr style=\"text-align: right;\">\n",
       "      <th></th>\n",
       "      <th>DrugBank ID</th>\n",
       "      <th>Smiles</th>\n",
       "      <th>Name</th>\n",
       "      <th>Predicted negative probability</th>\n",
       "      <th>Predicted positive probability</th>\n",
       "      <th>Predicted classification</th>\n",
       "    </tr>\n",
       "  </thead>\n",
       "  <tbody>\n",
       "    <tr>\n",
       "      <th>0</th>\n",
       "      <td>DB11581</td>\n",
       "      <td>Clc1ccc(cc1)C=1CC(CCC=1CN1CCN(CC1)c1cc(Oc2cc3c...</td>\n",
       "      <td>Venetoclax</td>\n",
       "      <td>0.165396</td>\n",
       "      <td>0.834604</td>\n",
       "      <td>1</td>\n",
       "    </tr>\n",
       "    <tr>\n",
       "      <th>1</th>\n",
       "      <td>DB11575</td>\n",
       "      <td>S(=O)(=O)(N=C(O)[C@@]1(N=C(O)[C@H]2N3C[C@H](Oc...</td>\n",
       "      <td>Grazoprevir</td>\n",
       "      <td>0.685339</td>\n",
       "      <td>0.314661</td>\n",
       "      <td>0</td>\n",
       "    </tr>\n",
       "    <tr>\n",
       "      <th>2</th>\n",
       "      <td>DB11574</td>\n",
       "      <td>O1c2cc(ccc2-c2n(c3c(cc(cc3)-c3nc([nH]c3)[C@H]3...</td>\n",
       "      <td>Elbasvir</td>\n",
       "      <td>0.148685</td>\n",
       "      <td>0.851315</td>\n",
       "      <td>1</td>\n",
       "    </tr>\n",
       "    <tr>\n",
       "      <th>3</th>\n",
       "      <td>DB11560</td>\n",
       "      <td>Brc1nnc(SCC(O)=O)n1-c1c2c(cccc2)c(cc1)C1CC1</td>\n",
       "      <td>Lesinurad</td>\n",
       "      <td>0.875724</td>\n",
       "      <td>0.124276</td>\n",
       "      <td>0</td>\n",
       "    </tr>\n",
       "    <tr>\n",
       "      <th>4</th>\n",
       "      <td>DB11367</td>\n",
       "      <td>S1[C@H]2N(C(C(O)=O)=C(OC)C1)C(=O)[C@H]2NC(=O)[...</td>\n",
       "      <td>Cefroxadine</td>\n",
       "      <td>0.996768</td>\n",
       "      <td>0.003232</td>\n",
       "      <td>0</td>\n",
       "    </tr>\n",
       "  </tbody>\n",
       "</table>\n",
       "</div>"
      ],
      "text/plain": [
       "0 DrugBank ID                                             Smiles         Name  \\\n",
       "0     DB11581  Clc1ccc(cc1)C=1CC(CCC=1CN1CCN(CC1)c1cc(Oc2cc3c...   Venetoclax   \n",
       "1     DB11575  S(=O)(=O)(N=C(O)[C@@]1(N=C(O)[C@H]2N3C[C@H](Oc...  Grazoprevir   \n",
       "2     DB11574  O1c2cc(ccc2-c2n(c3c(cc(cc3)-c3nc([nH]c3)[C@H]3...     Elbasvir   \n",
       "3     DB11560        Brc1nnc(SCC(O)=O)n1-c1c2c(cccc2)c(cc1)C1CC1    Lesinurad   \n",
       "4     DB11367  S1[C@H]2N(C(C(O)=O)=C(OC)C1)C(=O)[C@H]2NC(=O)[...  Cefroxadine   \n",
       "\n",
       "0 Predicted negative probability Predicted positive probability  \\\n",
       "0                       0.165396                       0.834604   \n",
       "1                       0.685339                       0.314661   \n",
       "2                       0.148685                       0.851315   \n",
       "3                       0.875724                       0.124276   \n",
       "4                       0.996768                       0.003232   \n",
       "\n",
       "0 Predicted classification  \n",
       "0                        1  \n",
       "1                        0  \n",
       "2                        1  \n",
       "3                        0  \n",
       "4                        0  "
      ]
     },
     "execution_count": 186,
     "metadata": {},
     "output_type": "execute_result"
    }
   ],
   "source": [
    "# Use the first row as column names\n",
    "df.columns = df.iloc[0]\n",
    "\n",
    "# Remove the first row (now used as column names)\n",
    "df = df.drop(0)\n",
    "\n",
    "# Reset the index to start from 0\n",
    "df.reset_index(drop=True,inplace=True)\n",
    "\n",
    "# Display the updated DataFrame\n",
    "df.head()"
   ]
  },
  {
   "cell_type": "code",
   "execution_count": 187,
   "metadata": {},
   "outputs": [
    {
     "data": {
      "text/plain": [
       "Index(['DrugBank ID', 'Smiles', 'Name', 'Predicted negative probability',\n",
       "       'Predicted positive probability', 'Predicted classification'],\n",
       "      dtype='object', name=0)"
      ]
     },
     "execution_count": 187,
     "metadata": {},
     "output_type": "execute_result"
    }
   ],
   "source": [
    "df.columns"
   ]
  },
  {
   "cell_type": "code",
   "execution_count": 188,
   "metadata": {},
   "outputs": [
    {
     "data": {
      "text/html": [
       "<div>\n",
       "<style scoped>\n",
       "    .dataframe tbody tr th:only-of-type {\n",
       "        vertical-align: middle;\n",
       "    }\n",
       "\n",
       "    .dataframe tbody tr th {\n",
       "        vertical-align: top;\n",
       "    }\n",
       "\n",
       "    .dataframe thead th {\n",
       "        text-align: right;\n",
       "    }\n",
       "</style>\n",
       "<table border=\"1\" class=\"dataframe\">\n",
       "  <thead>\n",
       "    <tr style=\"text-align: right;\">\n",
       "      <th></th>\n",
       "      <th>Smiles</th>\n",
       "    </tr>\n",
       "  </thead>\n",
       "  <tbody>\n",
       "    <tr>\n",
       "      <th>0</th>\n",
       "      <td>Clc1ccc(cc1)C=1CC(CCC=1CN1CCN(CC1)c1cc(Oc2cc3c...</td>\n",
       "    </tr>\n",
       "    <tr>\n",
       "      <th>1</th>\n",
       "      <td>S(=O)(=O)(N=C(O)[C@@]1(N=C(O)[C@H]2N3C[C@H](Oc...</td>\n",
       "    </tr>\n",
       "    <tr>\n",
       "      <th>2</th>\n",
       "      <td>O1c2cc(ccc2-c2n(c3c(cc(cc3)-c3nc([nH]c3)[C@H]3...</td>\n",
       "    </tr>\n",
       "    <tr>\n",
       "      <th>3</th>\n",
       "      <td>Brc1nnc(SCC(O)=O)n1-c1c2c(cccc2)c(cc1)C1CC1</td>\n",
       "    </tr>\n",
       "    <tr>\n",
       "      <th>4</th>\n",
       "      <td>S1[C@H]2N(C(C(O)=O)=C(OC)C1)C(=O)[C@H]2NC(=O)[...</td>\n",
       "    </tr>\n",
       "  </tbody>\n",
       "</table>\n",
       "</div>"
      ],
      "text/plain": [
       "0                                             Smiles\n",
       "0  Clc1ccc(cc1)C=1CC(CCC=1CN1CCN(CC1)c1cc(Oc2cc3c...\n",
       "1  S(=O)(=O)(N=C(O)[C@@]1(N=C(O)[C@H]2N3C[C@H](Oc...\n",
       "2  O1c2cc(ccc2-c2n(c3c(cc(cc3)-c3nc([nH]c3)[C@H]3...\n",
       "3        Brc1nnc(SCC(O)=O)n1-c1c2c(cccc2)c(cc1)C1CC1\n",
       "4  S1[C@H]2N(C(C(O)=O)=C(OC)C1)C(=O)[C@H]2NC(=O)[..."
      ]
     },
     "execution_count": 188,
     "metadata": {},
     "output_type": "execute_result"
    }
   ],
   "source": [
    "# Create a new DataFrame with only the Smiles column\n",
    "input_week2_task2 = df[['Smiles']]\n",
    "\n",
    "# Display \n",
    "input_week2_task2.head()"
   ]
  },
  {
   "cell_type": "code",
   "execution_count": 189,
   "metadata": {},
   "outputs": [
    {
     "data": {
      "text/html": [
       "<div>\n",
       "<style scoped>\n",
       "    .dataframe tbody tr th:only-of-type {\n",
       "        vertical-align: middle;\n",
       "    }\n",
       "\n",
       "    .dataframe tbody tr th {\n",
       "        vertical-align: top;\n",
       "    }\n",
       "\n",
       "    .dataframe thead th {\n",
       "        text-align: right;\n",
       "    }\n",
       "</style>\n",
       "<table border=\"1\" class=\"dataframe\">\n",
       "  <thead>\n",
       "    <tr style=\"text-align: right;\">\n",
       "      <th></th>\n",
       "      <th>Smiles</th>\n",
       "    </tr>\n",
       "  </thead>\n",
       "  <tbody>\n",
       "    <tr>\n",
       "      <th>count</th>\n",
       "      <td>1824</td>\n",
       "    </tr>\n",
       "    <tr>\n",
       "      <th>unique</th>\n",
       "      <td>1820</td>\n",
       "    </tr>\n",
       "    <tr>\n",
       "      <th>top</th>\n",
       "      <td>O([C@]([C@@H](CN(C)C)C)(Cc1ccccc1)c1ccccc1)C(=...</td>\n",
       "    </tr>\n",
       "    <tr>\n",
       "      <th>freq</th>\n",
       "      <td>2</td>\n",
       "    </tr>\n",
       "  </tbody>\n",
       "</table>\n",
       "</div>"
      ],
      "text/plain": [
       "0                                                  Smiles\n",
       "count                                                1824\n",
       "unique                                               1820\n",
       "top     O([C@]([C@@H](CN(C)C)C)(Cc1ccccc1)c1ccccc1)C(=...\n",
       "freq                                                    2"
      ]
     },
     "execution_count": 189,
     "metadata": {},
     "output_type": "execute_result"
    }
   ],
   "source": [
    "input_week2_task2.describe()"
   ]
  },
  {
   "cell_type": "code",
   "execution_count": 190,
   "metadata": {},
   "outputs": [
    {
     "name": "stderr",
     "output_type": "stream",
     "text": [
      "[19:45:39] Can't kekulize mol.  Unkekulized atoms: 3 10\n",
      "[01/04/24 19:45:40 standardiser.neutralise WARNING] zwitterion with more negative charges than quaternary positive centres detected\n",
      "[19:45:49] Can't kekulize mol.  Unkekulized atoms: 0 1 3 4 7 9\n",
      "[19:45:53] Can't kekulize mol.  Unkekulized atoms: 0 1 3 4 8 10\n"
     ]
    },
    {
     "name": "stdout",
     "output_type": "stream",
     "text": [
      "NaN values detected at indices: [   9   13   14   25   29   30   31   33   34   35   36   37   45   46\n",
      "   57   59   60   64  108  110  114  115  120  121  132  133  135  136\n",
      "  148  155  161  189  252  257  285  344  351  361  370  371  375  399\n",
      "  459  461  466  521  523  524  527  528  531  534  585  592  648  651\n",
      "  657  661  671  680  707  757  811  816  977  987  998 1001 1013 1030\n",
      " 1035 1070 1148 1200 1301 1306 1332 1357 1367 1423 1429 1438 1439 1567\n",
      " 1576 1612 1613 1624 1678 1736 1747 1793 1804 1808 1809 1816]\n"
     ]
    },
    {
     "name": "stderr",
     "output_type": "stream",
     "text": [
      "C:\\Users\\patha\\AppData\\Local\\Temp\\ipykernel_16224\\1086448239.py:7: SettingWithCopyWarning:\n",
      "\n",
      "\n",
      "A value is trying to be set on a copy of a slice from a DataFrame.\n",
      "Try using .loc[row_indexer,col_indexer] = value instead\n",
      "\n",
      "See the caveats in the documentation: https://pandas.pydata.org/pandas-docs/stable/user_guide/indexing.html#returning-a-view-versus-a-copy\n",
      "\n"
     ]
    }
   ],
   "source": [
    "# Here we standardise smiles and check if any null values in standardised smilies list\n",
    "\n",
    "smiles_list = input_week2_task2['Smiles'].tolist()\n",
    "standardised_smiles_list = standardise_smiles(smiles_list)\n",
    "\n",
    "# Assigning standardised smiles to the DataFrame using .loc\n",
    "input_week2_task2.loc[:, 'standardised_smiles'] = standardised_smiles_list\n",
    "\n",
    "# Checking for NaN values in standardised_smiles_list\n",
    "nan_indices = np.where(pd.isnull(standardised_smiles_list))[0]\n",
    "\n",
    "if len(nan_indices) > 0:\n",
    "    print(\"NaN values detected at indices:\", nan_indices)\n",
    "else:\n",
    "    print(\"No NaN values detected in standardised_smiles_list.\")\n"
   ]
  },
  {
   "cell_type": "code",
   "execution_count": 191,
   "metadata": {},
   "outputs": [
    {
     "data": {
      "text/html": [
       "<div>\n",
       "<style scoped>\n",
       "    .dataframe tbody tr th:only-of-type {\n",
       "        vertical-align: middle;\n",
       "    }\n",
       "\n",
       "    .dataframe tbody tr th {\n",
       "        vertical-align: top;\n",
       "    }\n",
       "\n",
       "    .dataframe thead th {\n",
       "        text-align: right;\n",
       "    }\n",
       "</style>\n",
       "<table border=\"1\" class=\"dataframe\">\n",
       "  <thead>\n",
       "    <tr style=\"text-align: right;\">\n",
       "      <th></th>\n",
       "      <th>Smiles</th>\n",
       "      <th>standardised_smiles</th>\n",
       "    </tr>\n",
       "  </thead>\n",
       "  <tbody>\n",
       "    <tr>\n",
       "      <th>0</th>\n",
       "      <td>Clc1ccc(cc1)C=1CC(CCC=1CN1CCN(CC1)c1cc(Oc2cc3c...</td>\n",
       "      <td>CC1(C)CCC(CN2CCN(c3ccc(C(=O)NS(=O)(=O)c4ccc(NC...</td>\n",
       "    </tr>\n",
       "    <tr>\n",
       "      <th>1</th>\n",
       "      <td>S(=O)(=O)(N=C(O)[C@@]1(N=C(O)[C@H]2N3C[C@H](Oc...</td>\n",
       "      <td>C=C[C@@H]1C[C@]1(NC(=O)[C@@H]1C[C@@H]2CN1C(=O)...</td>\n",
       "    </tr>\n",
       "    <tr>\n",
       "      <th>2</th>\n",
       "      <td>O1c2cc(ccc2-c2n(c3c(cc(cc3)-c3nc([nH]c3)[C@H]3...</td>\n",
       "      <td>COC(=O)N[C@H](C(=O)N1CCC[C@H]1c1nc(-c2ccc3c(c2...</td>\n",
       "    </tr>\n",
       "    <tr>\n",
       "      <th>3</th>\n",
       "      <td>Brc1nnc(SCC(O)=O)n1-c1c2c(cccc2)c(cc1)C1CC1</td>\n",
       "      <td>O=C(O)CSc1nnc(Br)n1-c1ccc(C2CC2)c2ccccc12</td>\n",
       "    </tr>\n",
       "    <tr>\n",
       "      <th>4</th>\n",
       "      <td>S1[C@H]2N(C(C(O)=O)=C(OC)C1)C(=O)[C@H]2NC(=O)[...</td>\n",
       "      <td>COC1=C(C(=O)O)N2C(=O)[C@@H](NC(=O)[C@H](N)C3=C...</td>\n",
       "    </tr>\n",
       "    <tr>\n",
       "      <th>...</th>\n",
       "      <td>...</td>\n",
       "      <td>...</td>\n",
       "    </tr>\n",
       "    <tr>\n",
       "      <th>1819</th>\n",
       "      <td>OC1=NC(CC)C(=O)N(CC(=O)N(C)C(CC(C)C)C(O)=NC(C(...</td>\n",
       "      <td>C/C=C/CC(C)C(O)C1C(=O)NC(CC)C(=O)N(C)CC(=O)N(C...</td>\n",
       "    </tr>\n",
       "    <tr>\n",
       "      <th>1820</th>\n",
       "      <td>Clc1ccc(cc1)C[C@@H](NC(=O)[C@H](NC(=O)C)Cc1cc2...</td>\n",
       "      <td>CC(=O)N[C@H](Cc1ccc2ccccc2c1)C(=O)N[C@H](Cc1cc...</td>\n",
       "    </tr>\n",
       "    <tr>\n",
       "      <th>1821</th>\n",
       "      <td>S1SCCC(=O)N[C@@H](Cc2ccc(O)cc2)C(=O)N[C@@H](Cc...</td>\n",
       "      <td>N=C(N)NCCC[C@H](NC(=O)[C@@H]1CCCN1C(=O)[C@@H]1...</td>\n",
       "    </tr>\n",
       "    <tr>\n",
       "      <th>1822</th>\n",
       "      <td>Oc1ccc(cc1)C[C@H](NC(=O)[C@@H](NC(=O)[C@@H](NC...</td>\n",
       "      <td>CC(C)C[C@H](NC(=O)[C@@H](COC(C)(C)C)NC(=O)[C@H...</td>\n",
       "    </tr>\n",
       "    <tr>\n",
       "      <th>1823</th>\n",
       "      <td>Oc1ccc(cc1)C[C@H](NC(=O)[C@@H](NC(=O)[C@@H](NC...</td>\n",
       "      <td>CC[C@H](C)[C@H](NC(=O)[C@H](CCC(=O)O)NC(=O)[C@...</td>\n",
       "    </tr>\n",
       "  </tbody>\n",
       "</table>\n",
       "<p>1824 rows × 2 columns</p>\n",
       "</div>"
      ],
      "text/plain": [
       "0                                                Smiles  \\\n",
       "0     Clc1ccc(cc1)C=1CC(CCC=1CN1CCN(CC1)c1cc(Oc2cc3c...   \n",
       "1     S(=O)(=O)(N=C(O)[C@@]1(N=C(O)[C@H]2N3C[C@H](Oc...   \n",
       "2     O1c2cc(ccc2-c2n(c3c(cc(cc3)-c3nc([nH]c3)[C@H]3...   \n",
       "3           Brc1nnc(SCC(O)=O)n1-c1c2c(cccc2)c(cc1)C1CC1   \n",
       "4     S1[C@H]2N(C(C(O)=O)=C(OC)C1)C(=O)[C@H]2NC(=O)[...   \n",
       "...                                                 ...   \n",
       "1819  OC1=NC(CC)C(=O)N(CC(=O)N(C)C(CC(C)C)C(O)=NC(C(...   \n",
       "1820  Clc1ccc(cc1)C[C@@H](NC(=O)[C@H](NC(=O)C)Cc1cc2...   \n",
       "1821  S1SCCC(=O)N[C@@H](Cc2ccc(O)cc2)C(=O)N[C@@H](Cc...   \n",
       "1822  Oc1ccc(cc1)C[C@H](NC(=O)[C@@H](NC(=O)[C@@H](NC...   \n",
       "1823  Oc1ccc(cc1)C[C@H](NC(=O)[C@@H](NC(=O)[C@@H](NC...   \n",
       "\n",
       "0                                   standardised_smiles  \n",
       "0     CC1(C)CCC(CN2CCN(c3ccc(C(=O)NS(=O)(=O)c4ccc(NC...  \n",
       "1     C=C[C@@H]1C[C@]1(NC(=O)[C@@H]1C[C@@H]2CN1C(=O)...  \n",
       "2     COC(=O)N[C@H](C(=O)N1CCC[C@H]1c1nc(-c2ccc3c(c2...  \n",
       "3             O=C(O)CSc1nnc(Br)n1-c1ccc(C2CC2)c2ccccc12  \n",
       "4     COC1=C(C(=O)O)N2C(=O)[C@@H](NC(=O)[C@H](N)C3=C...  \n",
       "...                                                 ...  \n",
       "1819  C/C=C/CC(C)C(O)C1C(=O)NC(CC)C(=O)N(C)CC(=O)N(C...  \n",
       "1820  CC(=O)N[C@H](Cc1ccc2ccccc2c1)C(=O)N[C@H](Cc1cc...  \n",
       "1821  N=C(N)NCCC[C@H](NC(=O)[C@@H]1CCCN1C(=O)[C@@H]1...  \n",
       "1822  CC(C)C[C@H](NC(=O)[C@@H](COC(C)(C)C)NC(=O)[C@H...  \n",
       "1823  CC[C@H](C)[C@H](NC(=O)[C@H](CCC(=O)O)NC(=O)[C@...  \n",
       "\n",
       "[1824 rows x 2 columns]"
      ]
     },
     "execution_count": 191,
     "metadata": {},
     "output_type": "execute_result"
    }
   ],
   "source": [
    "input_week2_task2"
   ]
  },
  {
   "cell_type": "code",
   "execution_count": 192,
   "metadata": {},
   "outputs": [
    {
     "name": "stderr",
     "output_type": "stream",
     "text": [
      "C:\\Users\\patha\\AppData\\Local\\Temp\\ipykernel_16224\\4061214834.py:2: SettingWithCopyWarning:\n",
      "\n",
      "\n",
      "A value is trying to be set on a copy of a slice from a DataFrame\n",
      "\n",
      "See the caveats in the documentation: https://pandas.pydata.org/pandas-docs/stable/user_guide/indexing.html#returning-a-view-versus-a-copy\n",
      "\n",
      "C:\\Users\\patha\\AppData\\Local\\Temp\\ipykernel_16224\\4061214834.py:3: SettingWithCopyWarning:\n",
      "\n",
      "\n",
      "A value is trying to be set on a copy of a slice from a DataFrame\n",
      "\n",
      "See the caveats in the documentation: https://pandas.pydata.org/pandas-docs/stable/user_guide/indexing.html#returning-a-view-versus-a-copy\n",
      "\n"
     ]
    },
    {
     "data": {
      "text/html": [
       "<div>\n",
       "<style scoped>\n",
       "    .dataframe tbody tr th:only-of-type {\n",
       "        vertical-align: middle;\n",
       "    }\n",
       "\n",
       "    .dataframe tbody tr th {\n",
       "        vertical-align: top;\n",
       "    }\n",
       "\n",
       "    .dataframe thead th {\n",
       "        text-align: right;\n",
       "    }\n",
       "</style>\n",
       "<table border=\"1\" class=\"dataframe\">\n",
       "  <thead>\n",
       "    <tr style=\"text-align: right;\">\n",
       "      <th></th>\n",
       "      <th>smiles</th>\n",
       "    </tr>\n",
       "  </thead>\n",
       "  <tbody>\n",
       "    <tr>\n",
       "      <th>0</th>\n",
       "      <td>CC1(C)CCC(CN2CCN(c3ccc(C(=O)NS(=O)(=O)c4ccc(NC...</td>\n",
       "    </tr>\n",
       "    <tr>\n",
       "      <th>1</th>\n",
       "      <td>C=C[C@@H]1C[C@]1(NC(=O)[C@@H]1C[C@@H]2CN1C(=O)...</td>\n",
       "    </tr>\n",
       "    <tr>\n",
       "      <th>2</th>\n",
       "      <td>COC(=O)N[C@H](C(=O)N1CCC[C@H]1c1nc(-c2ccc3c(c2...</td>\n",
       "    </tr>\n",
       "    <tr>\n",
       "      <th>3</th>\n",
       "      <td>O=C(O)CSc1nnc(Br)n1-c1ccc(C2CC2)c2ccccc12</td>\n",
       "    </tr>\n",
       "    <tr>\n",
       "      <th>4</th>\n",
       "      <td>COC1=C(C(=O)O)N2C(=O)[C@@H](NC(=O)[C@H](N)C3=C...</td>\n",
       "    </tr>\n",
       "    <tr>\n",
       "      <th>...</th>\n",
       "      <td>...</td>\n",
       "    </tr>\n",
       "    <tr>\n",
       "      <th>1719</th>\n",
       "      <td>C/C=C/CC(C)C(O)C1C(=O)NC(CC)C(=O)N(C)CC(=O)N(C...</td>\n",
       "    </tr>\n",
       "    <tr>\n",
       "      <th>1720</th>\n",
       "      <td>CC(=O)N[C@H](Cc1ccc2ccccc2c1)C(=O)N[C@H](Cc1cc...</td>\n",
       "    </tr>\n",
       "    <tr>\n",
       "      <th>1721</th>\n",
       "      <td>N=C(N)NCCC[C@H](NC(=O)[C@@H]1CCCN1C(=O)[C@@H]1...</td>\n",
       "    </tr>\n",
       "    <tr>\n",
       "      <th>1722</th>\n",
       "      <td>CC(C)C[C@H](NC(=O)[C@@H](COC(C)(C)C)NC(=O)[C@H...</td>\n",
       "    </tr>\n",
       "    <tr>\n",
       "      <th>1723</th>\n",
       "      <td>CC[C@H](C)[C@H](NC(=O)[C@H](CCC(=O)O)NC(=O)[C@...</td>\n",
       "    </tr>\n",
       "  </tbody>\n",
       "</table>\n",
       "<p>1724 rows × 1 columns</p>\n",
       "</div>"
      ],
      "text/plain": [
       "0                                                smiles\n",
       "0     CC1(C)CCC(CN2CCN(c3ccc(C(=O)NS(=O)(=O)c4ccc(NC...\n",
       "1     C=C[C@@H]1C[C@]1(NC(=O)[C@@H]1C[C@@H]2CN1C(=O)...\n",
       "2     COC(=O)N[C@H](C(=O)N1CCC[C@H]1c1nc(-c2ccc3c(c2...\n",
       "3             O=C(O)CSc1nnc(Br)n1-c1ccc(C2CC2)c2ccccc12\n",
       "4     COC1=C(C(=O)O)N2C(=O)[C@@H](NC(=O)[C@H](N)C3=C...\n",
       "...                                                 ...\n",
       "1719  C/C=C/CC(C)C(O)C1C(=O)NC(CC)C(=O)N(C)CC(=O)N(C...\n",
       "1720  CC(=O)N[C@H](Cc1ccc2ccccc2c1)C(=O)N[C@H](Cc1cc...\n",
       "1721  N=C(N)NCCC[C@H](NC(=O)[C@@H]1CCCN1C(=O)[C@@H]1...\n",
       "1722  CC(C)C[C@H](NC(=O)[C@@H](COC(C)(C)C)NC(=O)[C@H...\n",
       "1723  CC[C@H](C)[C@H](NC(=O)[C@H](CCC(=O)O)NC(=O)[C@...\n",
       "\n",
       "[1724 rows x 1 columns]"
      ]
     },
     "execution_count": 192,
     "metadata": {},
     "output_type": "execute_result"
    }
   ],
   "source": [
    "# Remove NaN values and duplicates from DataFrame\n",
    "input_week2_task2.dropna(inplace=True)\n",
    "input_week2_task2.drop_duplicates(inplace=True)\n",
    "\n",
    "# Reset index after removing rows\n",
    "input_week2_task2.reset_index(drop=True, inplace=True)\n",
    "\n",
    "# Drop the 'Smiles' column\n",
    "input_week2_task2 = input_week2_task2.drop(columns=['Smiles'])\n",
    "\n",
    "# Rename the 'standardised_smiles' column to 'Smiles'\n",
    "input_week2_task2.rename(columns={'standardised_smiles': 'smiles'}, inplace=True)\n",
    "\n",
    "input_week2_task2"
   ]
  },
  {
   "cell_type": "code",
   "execution_count": 193,
   "metadata": {},
   "outputs": [
    {
     "data": {
      "text/html": [
       "<div>\n",
       "<style scoped>\n",
       "    .dataframe tbody tr th:only-of-type {\n",
       "        vertical-align: middle;\n",
       "    }\n",
       "\n",
       "    .dataframe tbody tr th {\n",
       "        vertical-align: top;\n",
       "    }\n",
       "\n",
       "    .dataframe thead th {\n",
       "        text-align: right;\n",
       "    }\n",
       "</style>\n",
       "<table border=\"1\" class=\"dataframe\">\n",
       "  <thead>\n",
       "    <tr style=\"text-align: right;\">\n",
       "      <th></th>\n",
       "      <th>smiles</th>\n",
       "    </tr>\n",
       "  </thead>\n",
       "  <tbody>\n",
       "    <tr>\n",
       "      <th>count</th>\n",
       "      <td>1724</td>\n",
       "    </tr>\n",
       "    <tr>\n",
       "      <th>unique</th>\n",
       "      <td>1722</td>\n",
       "    </tr>\n",
       "    <tr>\n",
       "      <th>top</th>\n",
       "      <td>Cn1c(=O)c2[nH]cnc2n(C)c1=O</td>\n",
       "    </tr>\n",
       "    <tr>\n",
       "      <th>freq</th>\n",
       "      <td>2</td>\n",
       "    </tr>\n",
       "  </tbody>\n",
       "</table>\n",
       "</div>"
      ],
      "text/plain": [
       "0                           smiles\n",
       "count                         1724\n",
       "unique                        1722\n",
       "top     Cn1c(=O)c2[nH]cnc2n(C)c1=O\n",
       "freq                             2"
      ]
     },
     "execution_count": 193,
     "metadata": {},
     "output_type": "execute_result"
    }
   ],
   "source": [
    "input_week2_task2.describe()"
   ]
  },
  {
   "cell_type": "code",
   "execution_count": 194,
   "metadata": {},
   "outputs": [
    {
     "name": "stdout",
     "output_type": "stream",
     "text": [
      "Duplicate 'smiles' values after stripping whitespace:\n",
      "0                                                smiles\n",
      "469   C[C@]12CC[C@@H]3c4ccc(OS(=O)(=O)O)cc4CC[C@H]3[...\n",
      "640                          Cn1c(=O)c2[nH]cnc2n(C)c1=O\n",
      "1559  C[C@]12CC[C@@H]3c4ccc(OS(=O)(=O)O)cc4CC[C@H]3[...\n",
      "1568                         Cn1c(=O)c2[nH]cnc2n(C)c1=O\n"
     ]
    }
   ],
   "source": [
    "# As still there is few smilies which are not unique so we check for whitespace or leading/trailing spaces in the 'smiles' column\n",
    "input_week2_task2['smiles'] = input_week2_task2['smiles'].str.strip()\n",
    "\n",
    "# Count the occurrence of each unique 'smiles' value after stripping whitespace\n",
    "smiles_counts_stripped = input_week2_task2['smiles'].value_counts()\n",
    "\n",
    "# Find duplicates that occur more than once after stripping whitespace\n",
    "duplicates_stripped = smiles_counts_stripped[smiles_counts_stripped > 1]\n",
    "\n",
    "# Print out the duplicates after stripping whitespace\n",
    "print(\"Duplicate 'smiles' values after stripping whitespace:\")\n",
    "print(input_week2_task2[input_week2_task2['smiles'].isin(duplicates_stripped.index)])\n",
    "\n",
    "# Drop duplicates again after stripping whitespace\n",
    "input_week2_task2.drop_duplicates(inplace=True)\n",
    "\n",
    "# Reset index after removing rows again\n",
    "input_week2_task2.reset_index(drop=True, inplace=True)\n"
   ]
  },
  {
   "cell_type": "code",
   "execution_count": 195,
   "metadata": {},
   "outputs": [
    {
     "data": {
      "text/html": [
       "<div>\n",
       "<style scoped>\n",
       "    .dataframe tbody tr th:only-of-type {\n",
       "        vertical-align: middle;\n",
       "    }\n",
       "\n",
       "    .dataframe tbody tr th {\n",
       "        vertical-align: top;\n",
       "    }\n",
       "\n",
       "    .dataframe thead th {\n",
       "        text-align: right;\n",
       "    }\n",
       "</style>\n",
       "<table border=\"1\" class=\"dataframe\">\n",
       "  <thead>\n",
       "    <tr style=\"text-align: right;\">\n",
       "      <th></th>\n",
       "      <th>smiles</th>\n",
       "    </tr>\n",
       "  </thead>\n",
       "  <tbody>\n",
       "    <tr>\n",
       "      <th>count</th>\n",
       "      <td>1722</td>\n",
       "    </tr>\n",
       "    <tr>\n",
       "      <th>unique</th>\n",
       "      <td>1722</td>\n",
       "    </tr>\n",
       "    <tr>\n",
       "      <th>top</th>\n",
       "      <td>CC1(C)CCC(CN2CCN(c3ccc(C(=O)NS(=O)(=O)c4ccc(NC...</td>\n",
       "    </tr>\n",
       "    <tr>\n",
       "      <th>freq</th>\n",
       "      <td>1</td>\n",
       "    </tr>\n",
       "  </tbody>\n",
       "</table>\n",
       "</div>"
      ],
      "text/plain": [
       "0                                                  smiles\n",
       "count                                                1722\n",
       "unique                                               1722\n",
       "top     CC1(C)CCC(CN2CCN(c3ccc(C(=O)NS(=O)(=O)c4ccc(NC...\n",
       "freq                                                    1"
      ]
     },
     "execution_count": 195,
     "metadata": {},
     "output_type": "execute_result"
    }
   ],
   "source": [
    "input_week2_task2.describe()"
   ]
  },
  {
   "cell_type": "code",
   "execution_count": 196,
   "metadata": {},
   "outputs": [],
   "source": [
    "# Save the new DataFrame as a CSV file\n",
    "path = '../data/input_week2_task2.csv'\n",
    "input_week2_task2.to_csv(path, index=False)"
   ]
  },
  {
   "cell_type": "markdown",
   "metadata": {},
   "source": [
    "##### I ran the model on the dataset `input_week2_task2.csv` using following commands and save the output in `output_week2_task2.csv`\n",
    "\n",
    "```\n",
    "ersilia -v fetch eos30gr \n",
    "ersilia serve eos30gr\n",
    "ersilia -v api run -i input_week2_task2.csv -o output_week2_task2.csv\n",
    "\n",
    "```\n"
   ]
  },
  {
   "cell_type": "code",
   "execution_count": 211,
   "metadata": {},
   "outputs": [
    {
     "data": {
      "text/html": [
       "<div>\n",
       "<style scoped>\n",
       "    .dataframe tbody tr th:only-of-type {\n",
       "        vertical-align: middle;\n",
       "    }\n",
       "\n",
       "    .dataframe tbody tr th {\n",
       "        vertical-align: top;\n",
       "    }\n",
       "\n",
       "    .dataframe thead th {\n",
       "        text-align: right;\n",
       "    }\n",
       "</style>\n",
       "<table border=\"1\" class=\"dataframe\">\n",
       "  <thead>\n",
       "    <tr style=\"text-align: right;\">\n",
       "      <th></th>\n",
       "      <th>key</th>\n",
       "      <th>input</th>\n",
       "      <th>activity10</th>\n",
       "    </tr>\n",
       "  </thead>\n",
       "  <tbody>\n",
       "    <tr>\n",
       "      <th>0</th>\n",
       "      <td>LQBVNQSMGBZMKD-UHFFFAOYSA-N</td>\n",
       "      <td>CC1(C)CCC(CN2CCN(c3ccc(C(=O)NS(=O)(=O)c4ccc(NC...</td>\n",
       "      <td>0.440594</td>\n",
       "    </tr>\n",
       "    <tr>\n",
       "      <th>1</th>\n",
       "      <td>OBMNJSNZOWALQB-NCQNOWPTSA-N</td>\n",
       "      <td>C=C[C@@H]1C[C@]1(NC(=O)[C@@H]1C[C@@H]2CN1C(=O)...</td>\n",
       "      <td>0.369637</td>\n",
       "    </tr>\n",
       "    <tr>\n",
       "      <th>2</th>\n",
       "      <td>BVAZQCUMNICBAQ-PZHYSIFUSA-N</td>\n",
       "      <td>COC(=O)N[C@H](C(=O)N1CCC[C@H]1c1nc(-c2ccc3c(c2...</td>\n",
       "      <td>0.351485</td>\n",
       "    </tr>\n",
       "    <tr>\n",
       "      <th>3</th>\n",
       "      <td>FGQFOYHRJSUHMR-UHFFFAOYSA-N</td>\n",
       "      <td>O=C(O)CSc1nnc(Br)n1-c1ccc(C2CC2)c2ccccc12</td>\n",
       "      <td>0.329208</td>\n",
       "    </tr>\n",
       "    <tr>\n",
       "      <th>4</th>\n",
       "      <td>RDMOROXKXONCAL-UEKVPHQBSA-N</td>\n",
       "      <td>COC1=C(C(=O)O)N2C(=O)[C@@H](NC(=O)[C@H](N)C3=C...</td>\n",
       "      <td>0.121040</td>\n",
       "    </tr>\n",
       "    <tr>\n",
       "      <th>...</th>\n",
       "      <td>...</td>\n",
       "      <td>...</td>\n",
       "      <td>...</td>\n",
       "    </tr>\n",
       "    <tr>\n",
       "      <th>1717</th>\n",
       "      <td>PMATZTZNYRCHOR-IMVLJIQESA-N</td>\n",
       "      <td>C/C=C/CC(C)C(O)C1C(=O)NC(CC)C(=O)N(C)CC(=O)N(C...</td>\n",
       "      <td>0.382343</td>\n",
       "    </tr>\n",
       "    <tr>\n",
       "      <th>1718</th>\n",
       "      <td>SBNPWPIBESPSIF-MHWMIDJBSA-N</td>\n",
       "      <td>CC(=O)N[C@H](Cc1ccc2ccccc2c1)C(=O)N[C@H](Cc1cc...</td>\n",
       "      <td>0.516502</td>\n",
       "    </tr>\n",
       "    <tr>\n",
       "      <th>1719</th>\n",
       "      <td>NFLWUMRGJYTJIN-NXBWRCJVSA-N</td>\n",
       "      <td>N=C(N)NCCC[C@H](NC(=O)[C@@H]1CCCN1C(=O)[C@@H]1...</td>\n",
       "      <td>0.481436</td>\n",
       "    </tr>\n",
       "    <tr>\n",
       "      <th>1720</th>\n",
       "      <td>BLCLNMBMMGCOAS-URPVMXJPSA-N</td>\n",
       "      <td>CC(C)C[C@H](NC(=O)[C@@H](COC(C)(C)C)NC(=O)[C@H...</td>\n",
       "      <td>0.494578</td>\n",
       "    </tr>\n",
       "    <tr>\n",
       "      <th>1721</th>\n",
       "      <td>OIRCOABEOLEUMC-GEJPAHFPSA-N</td>\n",
       "      <td>CC[C@H](C)[C@H](NC(=O)[C@H](CCC(=O)O)NC(=O)[C@...</td>\n",
       "      <td>0.392739</td>\n",
       "    </tr>\n",
       "  </tbody>\n",
       "</table>\n",
       "<p>1722 rows × 3 columns</p>\n",
       "</div>"
      ],
      "text/plain": [
       "                              key  \\\n",
       "0     LQBVNQSMGBZMKD-UHFFFAOYSA-N   \n",
       "1     OBMNJSNZOWALQB-NCQNOWPTSA-N   \n",
       "2     BVAZQCUMNICBAQ-PZHYSIFUSA-N   \n",
       "3     FGQFOYHRJSUHMR-UHFFFAOYSA-N   \n",
       "4     RDMOROXKXONCAL-UEKVPHQBSA-N   \n",
       "...                           ...   \n",
       "1717  PMATZTZNYRCHOR-IMVLJIQESA-N   \n",
       "1718  SBNPWPIBESPSIF-MHWMIDJBSA-N   \n",
       "1719  NFLWUMRGJYTJIN-NXBWRCJVSA-N   \n",
       "1720  BLCLNMBMMGCOAS-URPVMXJPSA-N   \n",
       "1721  OIRCOABEOLEUMC-GEJPAHFPSA-N   \n",
       "\n",
       "                                                  input  activity10  \n",
       "0     CC1(C)CCC(CN2CCN(c3ccc(C(=O)NS(=O)(=O)c4ccc(NC...    0.440594  \n",
       "1     C=C[C@@H]1C[C@]1(NC(=O)[C@@H]1C[C@@H]2CN1C(=O)...    0.369637  \n",
       "2     COC(=O)N[C@H](C(=O)N1CCC[C@H]1c1nc(-c2ccc3c(c2...    0.351485  \n",
       "3             O=C(O)CSc1nnc(Br)n1-c1ccc(C2CC2)c2ccccc12    0.329208  \n",
       "4     COC1=C(C(=O)O)N2C(=O)[C@@H](NC(=O)[C@H](N)C3=C...    0.121040  \n",
       "...                                                 ...         ...  \n",
       "1717  C/C=C/CC(C)C(O)C1C(=O)NC(CC)C(=O)N(C)CC(=O)N(C...    0.382343  \n",
       "1718  CC(=O)N[C@H](Cc1ccc2ccccc2c1)C(=O)N[C@H](Cc1cc...    0.516502  \n",
       "1719  N=C(N)NCCC[C@H](NC(=O)[C@@H]1CCCN1C(=O)[C@@H]1...    0.481436  \n",
       "1720  CC(C)C[C@H](NC(=O)[C@@H](COC(C)(C)C)NC(=O)[C@H...    0.494578  \n",
       "1721  CC[C@H](C)[C@H](NC(=O)[C@H](CCC(=O)O)NC(=O)[C@...    0.392739  \n",
       "\n",
       "[1722 rows x 3 columns]"
      ]
     },
     "execution_count": 211,
     "metadata": {},
     "output_type": "execute_result"
    }
   ],
   "source": [
    "# In this codeblock I will load the predictions obtained from the Ersilia Model Hub implementation saved in the /data folder\n",
    "\n",
    "df_predicted = pd.read_csv('../data/output_week2_task2.csv')\n",
    "df_predicted"
   ]
  },
  {
   "cell_type": "code",
   "execution_count": 198,
   "metadata": {},
   "outputs": [
    {
     "data": {
      "text/html": [
       "<div>\n",
       "<style scoped>\n",
       "    .dataframe tbody tr th:only-of-type {\n",
       "        vertical-align: middle;\n",
       "    }\n",
       "\n",
       "    .dataframe tbody tr th {\n",
       "        vertical-align: top;\n",
       "    }\n",
       "\n",
       "    .dataframe thead th {\n",
       "        text-align: right;\n",
       "    }\n",
       "</style>\n",
       "<table border=\"1\" class=\"dataframe\">\n",
       "  <thead>\n",
       "    <tr style=\"text-align: right;\">\n",
       "      <th></th>\n",
       "      <th>Smiles</th>\n",
       "      <th>Predicted positive probability</th>\n",
       "    </tr>\n",
       "  </thead>\n",
       "  <tbody>\n",
       "    <tr>\n",
       "      <th>0</th>\n",
       "      <td>CC1(C)CCC(CN2CCN(c3ccc(C(=O)NS(=O)(=O)c4ccc(NC...</td>\n",
       "      <td>0.440594</td>\n",
       "    </tr>\n",
       "    <tr>\n",
       "      <th>1</th>\n",
       "      <td>C=C[C@@H]1C[C@]1(NC(=O)[C@@H]1C[C@@H]2CN1C(=O)...</td>\n",
       "      <td>0.369637</td>\n",
       "    </tr>\n",
       "    <tr>\n",
       "      <th>2</th>\n",
       "      <td>COC(=O)N[C@H](C(=O)N1CCC[C@H]1c1nc(-c2ccc3c(c2...</td>\n",
       "      <td>0.351485</td>\n",
       "    </tr>\n",
       "    <tr>\n",
       "      <th>3</th>\n",
       "      <td>O=C(O)CSc1nnc(Br)n1-c1ccc(C2CC2)c2ccccc12</td>\n",
       "      <td>0.329208</td>\n",
       "    </tr>\n",
       "    <tr>\n",
       "      <th>4</th>\n",
       "      <td>COC1=C(C(=O)O)N2C(=O)[C@@H](NC(=O)[C@H](N)C3=C...</td>\n",
       "      <td>0.121040</td>\n",
       "    </tr>\n",
       "  </tbody>\n",
       "</table>\n",
       "</div>"
      ],
      "text/plain": [
       "                                              Smiles  \\\n",
       "0  CC1(C)CCC(CN2CCN(c3ccc(C(=O)NS(=O)(=O)c4ccc(NC...   \n",
       "1  C=C[C@@H]1C[C@]1(NC(=O)[C@@H]1C[C@@H]2CN1C(=O)...   \n",
       "2  COC(=O)N[C@H](C(=O)N1CCC[C@H]1c1nc(-c2ccc3c(c2...   \n",
       "3          O=C(O)CSc1nnc(Br)n1-c1ccc(C2CC2)c2ccccc12   \n",
       "4  COC1=C(C(=O)O)N2C(=O)[C@@H](NC(=O)[C@H](N)C3=C...   \n",
       "\n",
       "   Predicted positive probability  \n",
       "0                        0.440594  \n",
       "1                        0.369637  \n",
       "2                        0.351485  \n",
       "3                        0.329208  \n",
       "4                        0.121040  "
      ]
     },
     "execution_count": 198,
     "metadata": {},
     "output_type": "execute_result"
    }
   ],
   "source": [
    "# Drop the 'key' column \n",
    "df_predicted.drop(columns='key', inplace=True)\n",
    "\n",
    "# Rename columns in a DataFrame\n",
    "df_predicted.rename(columns={'input':'Smiles', 'activity10':'Predicted positive probability'}, inplace=True)\n",
    "\n",
    "# Display \n",
    "df_predicted.head()"
   ]
  },
  {
   "cell_type": "code",
   "execution_count": 199,
   "metadata": {},
   "outputs": [
    {
     "data": {
      "text/html": [
       "<div>\n",
       "<style scoped>\n",
       "    .dataframe tbody tr th:only-of-type {\n",
       "        vertical-align: middle;\n",
       "    }\n",
       "\n",
       "    .dataframe tbody tr th {\n",
       "        vertical-align: top;\n",
       "    }\n",
       "\n",
       "    .dataframe thead th {\n",
       "        text-align: right;\n",
       "    }\n",
       "</style>\n",
       "<table border=\"1\" class=\"dataframe\">\n",
       "  <thead>\n",
       "    <tr style=\"text-align: right;\">\n",
       "      <th></th>\n",
       "      <th>DrugBank ID</th>\n",
       "      <th>Name</th>\n",
       "      <th>Smiles</th>\n",
       "      <th>Predicted positive probability</th>\n",
       "    </tr>\n",
       "  </thead>\n",
       "  <tbody>\n",
       "    <tr>\n",
       "      <th>0</th>\n",
       "      <td>DB11581</td>\n",
       "      <td>Venetoclax</td>\n",
       "      <td>CC1(C)CCC(CN2CCN(c3ccc(C(=O)NS(=O)(=O)c4ccc(NC...</td>\n",
       "      <td>0.440594</td>\n",
       "    </tr>\n",
       "    <tr>\n",
       "      <th>1</th>\n",
       "      <td>DB11575</td>\n",
       "      <td>Grazoprevir</td>\n",
       "      <td>C=C[C@@H]1C[C@]1(NC(=O)[C@@H]1C[C@@H]2CN1C(=O)...</td>\n",
       "      <td>0.369637</td>\n",
       "    </tr>\n",
       "    <tr>\n",
       "      <th>2</th>\n",
       "      <td>DB11574</td>\n",
       "      <td>Elbasvir</td>\n",
       "      <td>COC(=O)N[C@H](C(=O)N1CCC[C@H]1c1nc(-c2ccc3c(c2...</td>\n",
       "      <td>0.351485</td>\n",
       "    </tr>\n",
       "    <tr>\n",
       "      <th>3</th>\n",
       "      <td>DB11560</td>\n",
       "      <td>Lesinurad</td>\n",
       "      <td>O=C(O)CSc1nnc(Br)n1-c1ccc(C2CC2)c2ccccc12</td>\n",
       "      <td>0.329208</td>\n",
       "    </tr>\n",
       "    <tr>\n",
       "      <th>4</th>\n",
       "      <td>DB11367</td>\n",
       "      <td>Cefroxadine</td>\n",
       "      <td>COC1=C(C(=O)O)N2C(=O)[C@@H](NC(=O)[C@H](N)C3=C...</td>\n",
       "      <td>0.121040</td>\n",
       "    </tr>\n",
       "    <tr>\n",
       "      <th>...</th>\n",
       "      <td>...</td>\n",
       "      <td>...</td>\n",
       "      <td>...</td>\n",
       "      <td>...</td>\n",
       "    </tr>\n",
       "    <tr>\n",
       "      <th>1717</th>\n",
       "      <td>DB00219</td>\n",
       "      <td>Oxyphenonium</td>\n",
       "      <td>C/C=C/CC(C)C(O)C1C(=O)NC(CC)C(=O)N(C)CC(=O)N(C...</td>\n",
       "      <td>0.382343</td>\n",
       "    </tr>\n",
       "    <tr>\n",
       "      <th>1718</th>\n",
       "      <td>DB00218</td>\n",
       "      <td>Moxifloxacin</td>\n",
       "      <td>CC(=O)N[C@H](Cc1ccc2ccccc2c1)C(=O)N[C@H](Cc1cc...</td>\n",
       "      <td>0.516502</td>\n",
       "    </tr>\n",
       "    <tr>\n",
       "      <th>1719</th>\n",
       "      <td>DB00217</td>\n",
       "      <td>Bethanidine</td>\n",
       "      <td>N=C(N)NCCC[C@H](NC(=O)[C@@H]1CCCN1C(=O)[C@@H]1...</td>\n",
       "      <td>0.481436</td>\n",
       "    </tr>\n",
       "    <tr>\n",
       "      <th>1720</th>\n",
       "      <td>DB00216</td>\n",
       "      <td>Eletriptan</td>\n",
       "      <td>CC(C)C[C@H](NC(=O)[C@@H](COC(C)(C)C)NC(=O)[C@H...</td>\n",
       "      <td>0.494578</td>\n",
       "    </tr>\n",
       "    <tr>\n",
       "      <th>1721</th>\n",
       "      <td>DB00215</td>\n",
       "      <td>Citalopram</td>\n",
       "      <td>CC[C@H](C)[C@H](NC(=O)[C@H](CCC(=O)O)NC(=O)[C@...</td>\n",
       "      <td>0.392739</td>\n",
       "    </tr>\n",
       "  </tbody>\n",
       "</table>\n",
       "<p>1722 rows × 4 columns</p>\n",
       "</div>"
      ],
      "text/plain": [
       "     DrugBank ID          Name  \\\n",
       "0        DB11581    Venetoclax   \n",
       "1        DB11575   Grazoprevir   \n",
       "2        DB11574      Elbasvir   \n",
       "3        DB11560     Lesinurad   \n",
       "4        DB11367   Cefroxadine   \n",
       "...          ...           ...   \n",
       "1717     DB00219  Oxyphenonium   \n",
       "1718     DB00218  Moxifloxacin   \n",
       "1719     DB00217   Bethanidine   \n",
       "1720     DB00216    Eletriptan   \n",
       "1721     DB00215    Citalopram   \n",
       "\n",
       "                                                 Smiles  \\\n",
       "0     CC1(C)CCC(CN2CCN(c3ccc(C(=O)NS(=O)(=O)c4ccc(NC...   \n",
       "1     C=C[C@@H]1C[C@]1(NC(=O)[C@@H]1C[C@@H]2CN1C(=O)...   \n",
       "2     COC(=O)N[C@H](C(=O)N1CCC[C@H]1c1nc(-c2ccc3c(c2...   \n",
       "3             O=C(O)CSc1nnc(Br)n1-c1ccc(C2CC2)c2ccccc12   \n",
       "4     COC1=C(C(=O)O)N2C(=O)[C@@H](NC(=O)[C@H](N)C3=C...   \n",
       "...                                                 ...   \n",
       "1717  C/C=C/CC(C)C(O)C1C(=O)NC(CC)C(=O)N(C)CC(=O)N(C...   \n",
       "1718  CC(=O)N[C@H](Cc1ccc2ccccc2c1)C(=O)N[C@H](Cc1cc...   \n",
       "1719  N=C(N)NCCC[C@H](NC(=O)[C@@H]1CCCN1C(=O)[C@@H]1...   \n",
       "1720  CC(C)C[C@H](NC(=O)[C@@H](COC(C)(C)C)NC(=O)[C@H...   \n",
       "1721  CC[C@H](C)[C@H](NC(=O)[C@H](CCC(=O)O)NC(=O)[C@...   \n",
       "\n",
       "      Predicted positive probability  \n",
       "0                           0.440594  \n",
       "1                           0.369637  \n",
       "2                           0.351485  \n",
       "3                           0.329208  \n",
       "4                           0.121040  \n",
       "...                              ...  \n",
       "1717                        0.382343  \n",
       "1718                        0.516502  \n",
       "1719                        0.481436  \n",
       "1720                        0.494578  \n",
       "1721                        0.392739  \n",
       "\n",
       "[1722 rows x 4 columns]"
      ]
     },
     "execution_count": 199,
     "metadata": {},
     "output_type": "execute_result"
    }
   ],
   "source": [
    "# Merge 'DrugBank ID' and 'Name' columns from df into df_predicted\n",
    "df_predicted = pd.merge(df_predicted, df[['DrugBank ID', 'Name']], left_index=True, right_index=True)\n",
    "column_order = ['DrugBank ID','Name', 'Smiles','Predicted positive probability']\n",
    "df_predicted = df_predicted[column_order]\n",
    "\n",
    "# Display \n",
    "df_predicted"
   ]
  },
  {
   "cell_type": "code",
   "execution_count": 200,
   "metadata": {},
   "outputs": [
    {
     "data": {
      "text/html": [
       "<div>\n",
       "<style scoped>\n",
       "    .dataframe tbody tr th:only-of-type {\n",
       "        vertical-align: middle;\n",
       "    }\n",
       "\n",
       "    .dataframe tbody tr th {\n",
       "        vertical-align: top;\n",
       "    }\n",
       "\n",
       "    .dataframe thead th {\n",
       "        text-align: right;\n",
       "    }\n",
       "</style>\n",
       "<table border=\"1\" class=\"dataframe\">\n",
       "  <thead>\n",
       "    <tr style=\"text-align: right;\">\n",
       "      <th></th>\n",
       "      <th>DrugBank ID</th>\n",
       "      <th>Name</th>\n",
       "      <th>Smiles</th>\n",
       "      <th>Predicted positive probability</th>\n",
       "      <th>Predicted negative probability</th>\n",
       "    </tr>\n",
       "  </thead>\n",
       "  <tbody>\n",
       "    <tr>\n",
       "      <th>0</th>\n",
       "      <td>DB11581</td>\n",
       "      <td>Venetoclax</td>\n",
       "      <td>CC1(C)CCC(CN2CCN(c3ccc(C(=O)NS(=O)(=O)c4ccc(NC...</td>\n",
       "      <td>0.440594</td>\n",
       "      <td>0.559406</td>\n",
       "    </tr>\n",
       "    <tr>\n",
       "      <th>1</th>\n",
       "      <td>DB11575</td>\n",
       "      <td>Grazoprevir</td>\n",
       "      <td>C=C[C@@H]1C[C@]1(NC(=O)[C@@H]1C[C@@H]2CN1C(=O)...</td>\n",
       "      <td>0.369637</td>\n",
       "      <td>0.630363</td>\n",
       "    </tr>\n",
       "    <tr>\n",
       "      <th>2</th>\n",
       "      <td>DB11574</td>\n",
       "      <td>Elbasvir</td>\n",
       "      <td>COC(=O)N[C@H](C(=O)N1CCC[C@H]1c1nc(-c2ccc3c(c2...</td>\n",
       "      <td>0.351485</td>\n",
       "      <td>0.648515</td>\n",
       "    </tr>\n",
       "    <tr>\n",
       "      <th>3</th>\n",
       "      <td>DB11560</td>\n",
       "      <td>Lesinurad</td>\n",
       "      <td>O=C(O)CSc1nnc(Br)n1-c1ccc(C2CC2)c2ccccc12</td>\n",
       "      <td>0.329208</td>\n",
       "      <td>0.670792</td>\n",
       "    </tr>\n",
       "    <tr>\n",
       "      <th>4</th>\n",
       "      <td>DB11367</td>\n",
       "      <td>Cefroxadine</td>\n",
       "      <td>COC1=C(C(=O)O)N2C(=O)[C@@H](NC(=O)[C@H](N)C3=C...</td>\n",
       "      <td>0.121040</td>\n",
       "      <td>0.878960</td>\n",
       "    </tr>\n",
       "  </tbody>\n",
       "</table>\n",
       "</div>"
      ],
      "text/plain": [
       "  DrugBank ID         Name                                             Smiles  \\\n",
       "0     DB11581   Venetoclax  CC1(C)CCC(CN2CCN(c3ccc(C(=O)NS(=O)(=O)c4ccc(NC...   \n",
       "1     DB11575  Grazoprevir  C=C[C@@H]1C[C@]1(NC(=O)[C@@H]1C[C@@H]2CN1C(=O)...   \n",
       "2     DB11574     Elbasvir  COC(=O)N[C@H](C(=O)N1CCC[C@H]1c1nc(-c2ccc3c(c2...   \n",
       "3     DB11560    Lesinurad          O=C(O)CSc1nnc(Br)n1-c1ccc(C2CC2)c2ccccc12   \n",
       "4     DB11367  Cefroxadine  COC1=C(C(=O)O)N2C(=O)[C@@H](NC(=O)[C@H](N)C3=C...   \n",
       "\n",
       "   Predicted positive probability  Predicted negative probability  \n",
       "0                        0.440594                        0.559406  \n",
       "1                        0.369637                        0.630363  \n",
       "2                        0.351485                        0.648515  \n",
       "3                        0.329208                        0.670792  \n",
       "4                        0.121040                        0.878960  "
      ]
     },
     "execution_count": 200,
     "metadata": {},
     "output_type": "execute_result"
    }
   ],
   "source": [
    "df_predicted['Predicted negative probability'] = 1 - df_predicted['Predicted positive probability']\n",
    "df_predicted.head()"
   ]
  },
  {
   "cell_type": "code",
   "execution_count": 201,
   "metadata": {},
   "outputs": [
    {
     "data": {
      "text/html": [
       "<div>\n",
       "<style scoped>\n",
       "    .dataframe tbody tr th:only-of-type {\n",
       "        vertical-align: middle;\n",
       "    }\n",
       "\n",
       "    .dataframe tbody tr th {\n",
       "        vertical-align: top;\n",
       "    }\n",
       "\n",
       "    .dataframe thead th {\n",
       "        text-align: right;\n",
       "    }\n",
       "</style>\n",
       "<table border=\"1\" class=\"dataframe\">\n",
       "  <thead>\n",
       "    <tr style=\"text-align: right;\">\n",
       "      <th></th>\n",
       "      <th>DrugBank ID</th>\n",
       "      <th>Name</th>\n",
       "      <th>Smiles</th>\n",
       "      <th>Predicted positive probability</th>\n",
       "      <th>Predicted negative probability</th>\n",
       "      <th>Predicted classification</th>\n",
       "    </tr>\n",
       "  </thead>\n",
       "  <tbody>\n",
       "    <tr>\n",
       "      <th>0</th>\n",
       "      <td>DB11581</td>\n",
       "      <td>Venetoclax</td>\n",
       "      <td>CC1(C)CCC(CN2CCN(c3ccc(C(=O)NS(=O)(=O)c4ccc(NC...</td>\n",
       "      <td>0.440594</td>\n",
       "      <td>0.559406</td>\n",
       "      <td>0</td>\n",
       "    </tr>\n",
       "    <tr>\n",
       "      <th>1</th>\n",
       "      <td>DB11575</td>\n",
       "      <td>Grazoprevir</td>\n",
       "      <td>C=C[C@@H]1C[C@]1(NC(=O)[C@@H]1C[C@@H]2CN1C(=O)...</td>\n",
       "      <td>0.369637</td>\n",
       "      <td>0.630363</td>\n",
       "      <td>0</td>\n",
       "    </tr>\n",
       "    <tr>\n",
       "      <th>2</th>\n",
       "      <td>DB11574</td>\n",
       "      <td>Elbasvir</td>\n",
       "      <td>COC(=O)N[C@H](C(=O)N1CCC[C@H]1c1nc(-c2ccc3c(c2...</td>\n",
       "      <td>0.351485</td>\n",
       "      <td>0.648515</td>\n",
       "      <td>0</td>\n",
       "    </tr>\n",
       "    <tr>\n",
       "      <th>3</th>\n",
       "      <td>DB11560</td>\n",
       "      <td>Lesinurad</td>\n",
       "      <td>O=C(O)CSc1nnc(Br)n1-c1ccc(C2CC2)c2ccccc12</td>\n",
       "      <td>0.329208</td>\n",
       "      <td>0.670792</td>\n",
       "      <td>0</td>\n",
       "    </tr>\n",
       "    <tr>\n",
       "      <th>4</th>\n",
       "      <td>DB11367</td>\n",
       "      <td>Cefroxadine</td>\n",
       "      <td>COC1=C(C(=O)O)N2C(=O)[C@@H](NC(=O)[C@H](N)C3=C...</td>\n",
       "      <td>0.121040</td>\n",
       "      <td>0.878960</td>\n",
       "      <td>0</td>\n",
       "    </tr>\n",
       "    <tr>\n",
       "      <th>...</th>\n",
       "      <td>...</td>\n",
       "      <td>...</td>\n",
       "      <td>...</td>\n",
       "      <td>...</td>\n",
       "      <td>...</td>\n",
       "      <td>...</td>\n",
       "    </tr>\n",
       "    <tr>\n",
       "      <th>1717</th>\n",
       "      <td>DB00219</td>\n",
       "      <td>Oxyphenonium</td>\n",
       "      <td>C/C=C/CC(C)C(O)C1C(=O)NC(CC)C(=O)N(C)CC(=O)N(C...</td>\n",
       "      <td>0.382343</td>\n",
       "      <td>0.617657</td>\n",
       "      <td>0</td>\n",
       "    </tr>\n",
       "    <tr>\n",
       "      <th>1718</th>\n",
       "      <td>DB00218</td>\n",
       "      <td>Moxifloxacin</td>\n",
       "      <td>CC(=O)N[C@H](Cc1ccc2ccccc2c1)C(=O)N[C@H](Cc1cc...</td>\n",
       "      <td>0.516502</td>\n",
       "      <td>0.483498</td>\n",
       "      <td>1</td>\n",
       "    </tr>\n",
       "    <tr>\n",
       "      <th>1719</th>\n",
       "      <td>DB00217</td>\n",
       "      <td>Bethanidine</td>\n",
       "      <td>N=C(N)NCCC[C@H](NC(=O)[C@@H]1CCCN1C(=O)[C@@H]1...</td>\n",
       "      <td>0.481436</td>\n",
       "      <td>0.518564</td>\n",
       "      <td>0</td>\n",
       "    </tr>\n",
       "    <tr>\n",
       "      <th>1720</th>\n",
       "      <td>DB00216</td>\n",
       "      <td>Eletriptan</td>\n",
       "      <td>CC(C)C[C@H](NC(=O)[C@@H](COC(C)(C)C)NC(=O)[C@H...</td>\n",
       "      <td>0.494578</td>\n",
       "      <td>0.505422</td>\n",
       "      <td>0</td>\n",
       "    </tr>\n",
       "    <tr>\n",
       "      <th>1721</th>\n",
       "      <td>DB00215</td>\n",
       "      <td>Citalopram</td>\n",
       "      <td>CC[C@H](C)[C@H](NC(=O)[C@H](CCC(=O)O)NC(=O)[C@...</td>\n",
       "      <td>0.392739</td>\n",
       "      <td>0.607261</td>\n",
       "      <td>0</td>\n",
       "    </tr>\n",
       "  </tbody>\n",
       "</table>\n",
       "<p>1722 rows × 6 columns</p>\n",
       "</div>"
      ],
      "text/plain": [
       "     DrugBank ID          Name  \\\n",
       "0        DB11581    Venetoclax   \n",
       "1        DB11575   Grazoprevir   \n",
       "2        DB11574      Elbasvir   \n",
       "3        DB11560     Lesinurad   \n",
       "4        DB11367   Cefroxadine   \n",
       "...          ...           ...   \n",
       "1717     DB00219  Oxyphenonium   \n",
       "1718     DB00218  Moxifloxacin   \n",
       "1719     DB00217   Bethanidine   \n",
       "1720     DB00216    Eletriptan   \n",
       "1721     DB00215    Citalopram   \n",
       "\n",
       "                                                 Smiles  \\\n",
       "0     CC1(C)CCC(CN2CCN(c3ccc(C(=O)NS(=O)(=O)c4ccc(NC...   \n",
       "1     C=C[C@@H]1C[C@]1(NC(=O)[C@@H]1C[C@@H]2CN1C(=O)...   \n",
       "2     COC(=O)N[C@H](C(=O)N1CCC[C@H]1c1nc(-c2ccc3c(c2...   \n",
       "3             O=C(O)CSc1nnc(Br)n1-c1ccc(C2CC2)c2ccccc12   \n",
       "4     COC1=C(C(=O)O)N2C(=O)[C@@H](NC(=O)[C@H](N)C3=C...   \n",
       "...                                                 ...   \n",
       "1717  C/C=C/CC(C)C(O)C1C(=O)NC(CC)C(=O)N(C)CC(=O)N(C...   \n",
       "1718  CC(=O)N[C@H](Cc1ccc2ccccc2c1)C(=O)N[C@H](Cc1cc...   \n",
       "1719  N=C(N)NCCC[C@H](NC(=O)[C@@H]1CCCN1C(=O)[C@@H]1...   \n",
       "1720  CC(C)C[C@H](NC(=O)[C@@H](COC(C)(C)C)NC(=O)[C@H...   \n",
       "1721  CC[C@H](C)[C@H](NC(=O)[C@H](CCC(=O)O)NC(=O)[C@...   \n",
       "\n",
       "      Predicted positive probability  Predicted negative probability  \\\n",
       "0                           0.440594                        0.559406   \n",
       "1                           0.369637                        0.630363   \n",
       "2                           0.351485                        0.648515   \n",
       "3                           0.329208                        0.670792   \n",
       "4                           0.121040                        0.878960   \n",
       "...                              ...                             ...   \n",
       "1717                        0.382343                        0.617657   \n",
       "1718                        0.516502                        0.483498   \n",
       "1719                        0.481436                        0.518564   \n",
       "1720                        0.494578                        0.505422   \n",
       "1721                        0.392739                        0.607261   \n",
       "\n",
       "      Predicted classification  \n",
       "0                            0  \n",
       "1                            0  \n",
       "2                            0  \n",
       "3                            0  \n",
       "4                            0  \n",
       "...                        ...  \n",
       "1717                         0  \n",
       "1718                         1  \n",
       "1719                         0  \n",
       "1720                         0  \n",
       "1721                         0  \n",
       "\n",
       "[1722 rows x 6 columns]"
      ]
     },
     "execution_count": 201,
     "metadata": {},
     "output_type": "execute_result"
    }
   ],
   "source": [
    "# Create a new column 'Predicted classification' based on 'Predicted positive probability'\n",
    "df_predicted['Predicted classification'] = (df_predicted['Predicted positive probability'] >= 0.5).astype(int)\n",
    "\n",
    "# Display \n",
    "df_predicted"
   ]
  },
  {
   "cell_type": "code",
   "execution_count": 202,
   "metadata": {},
   "outputs": [],
   "source": [
    "# In this codeblock I will compare the orginal implementation vs the Ersilia Model Hub result"
   ]
  },
  {
   "cell_type": "code",
   "execution_count": 203,
   "metadata": {},
   "outputs": [
    {
     "data": {
      "image/png": "[encoded data removed]",
      "text/plain": [
       "<Figure size 1500x800 with 1 Axes>"
      ]
     },
     "metadata": {},
     "output_type": "display_data"
    }
   ],
   "source": [
    "# Extracting the first 30 probabilities and corresponding molecule indices\n",
    "publication_probabilities = df['Predicted positive probability'].head(30)\n",
    "prediction_probabilities = df_predicted['Predicted positive probability'].head(30)\n",
    "molecule_indices = range(1, 31)  \n",
    "\n",
    "# Plotting\n",
    "plt.figure(figsize=(15, 8))  \n",
    "\n",
    "# Width of the bars\n",
    "bar_width = 0.4 \n",
    "\n",
    "# Position of bars on x-axis\n",
    "bar_positions1 = [index - bar_width/2 for index in molecule_indices]\n",
    "bar_positions2 = [index + bar_width/2 for index in molecule_indices]\n",
    "\n",
    "# Plotting bars\n",
    "plt.bar(bar_positions1, publication_probabilities, label='Publication Probabilities', color='skyblue', width=bar_width)\n",
    "plt.bar(bar_positions2, prediction_probabilities, label='Prediction Probabilities', color='salmon', width=bar_width)\n",
    "\n",
    "plt.title('Comparison of Positive Predictive Probabilities (First 30 Molecules)')\n",
    "plt.xlabel('Molecule Index')\n",
    "plt.ylabel('Predicted Positive Probability')\n",
    "plt.xticks(molecule_indices)\n",
    "plt.legend()\n",
    "plt.grid(True);\n",
    "\n",
    "#Save the plot in data directory\n",
    "path = '../figures/01_model_reproducibility/BarChart_+vePredictiveProbability.png'\n",
    "plt.savefig(path)"
   ]
  },
  {
   "cell_type": "code",
   "execution_count": 204,
   "metadata": {},
   "outputs": [
    {
     "data": {
      "image/png": "[encoded data removed]",
      "text/plain": [
       "<Figure size 1000x600 with 1 Axes>"
      ]
     },
     "metadata": {},
     "output_type": "display_data"
    }
   ],
   "source": [
    "# Extracting the first 100 probabilities and corresponding molecule indices\n",
    "publication_probabilities = df['Predicted positive probability'].head(100)\n",
    "prediction_probabilities = df_predicted['Predicted positive probability'].head(100)\n",
    "molecule_indices = range(1, 101)  \n",
    "\n",
    "# Plotting\n",
    "plt.figure(figsize=(10, 6))\n",
    "plt.plot(molecule_indices, publication_probabilities, label='Publication Probabilities', color='skyblue', marker='o')\n",
    "plt.plot(molecule_indices, prediction_probabilities, label='Prediction Probabilities', color='salmon', marker='o')\n",
    "plt.title('Comparison of positive Predictive Probabilities (First 100 Molecules)')\n",
    "plt.xlabel('Molecule Index')\n",
    "plt.ylabel('Predicted positive Probability')\n",
    "plt.legend()\n",
    "plt.grid(True);\n",
    "\n",
    "#Save the plot in data directory\n",
    "path = '../figures/01_model_reproducibility/LineChart_+vePredictiveProbability.png'\n",
    "plt.savefig(path)"
   ]
  },
  {
   "cell_type": "code",
   "execution_count": 205,
   "metadata": {},
   "outputs": [
    {
     "data": {
      "image/png": "[encoded data removed]",
      "text/plain": [
       "<Figure size 1500x800 with 1 Axes>"
      ]
     },
     "metadata": {},
     "output_type": "display_data"
    }
   ],
   "source": [
    "# Extracting the first 200 probabilities and corresponding molecule indices\n",
    "publication_probabilities = df['Predicted negative probability'].head(30)\n",
    "prediction_probabilities = df_predicted['Predicted negative probability'].head(30)\n",
    "molecule_indices = range(1, 31) \n",
    "\n",
    "# Plotting\n",
    "plt.figure(figsize=(15, 8))\n",
    "\n",
    "# Width of the bars\n",
    "bar_width = 0.4  \n",
    "\n",
    "# Position of bars on x-axis\n",
    "bar_positions1 = [index - bar_width/2 for index in molecule_indices]\n",
    "bar_positions2 = [index + bar_width/2 for index in molecule_indices]\n",
    "\n",
    "# Plotting bars\n",
    "plt.bar(bar_positions1, publication_probabilities, label='Publication Probabilities', color='purple', width=bar_width)\n",
    "plt.bar(bar_positions2, prediction_probabilities, label='Prediction Probabilities', color='violet', width=bar_width)\n",
    "\n",
    "plt.title('Comparison of Negative Predictive Probabilities (First 30 Molecules)')\n",
    "plt.xlabel('Molecule Index')\n",
    "plt.xticks(molecule_indices)\n",
    "plt.ylabel('Predicted Negative Probability')\n",
    "plt.legend()\n",
    "plt.grid(True);\n",
    "\n",
    "#Save the plot in data directory\n",
    "path = '../figures/01_model_reproducibility/BarChart_-vePredictiveProbability.png'\n",
    "plt.savefig(path)"
   ]
  },
  {
   "cell_type": "code",
   "execution_count": 206,
   "metadata": {},
   "outputs": [
    {
     "data": {
      "image/png": "[encoded data removed]",
      "text/plain": [
       "<Figure size 1000x600 with 1 Axes>"
      ]
     },
     "metadata": {},
     "output_type": "display_data"
    }
   ],
   "source": [
    "# Extracting the first 100 probabilities and corresponding molecule indices\n",
    "publication_probabilities = df['Predicted negative probability'].head(100)\n",
    "prediction_probabilities = df_predicted['Predicted negative probability'].head(100)\n",
    "molecule_indices = range(1, 101) \n",
    "\n",
    "# Plotting\n",
    "plt.figure(figsize=(10, 6))\n",
    "plt.plot(molecule_indices, publication_probabilities, label='Publication Probabilities', color='purple', marker='o')\n",
    "plt.plot(molecule_indices, prediction_probabilities, label='Prediction Probabilities', color='violet', marker='o')\n",
    "plt.title('Comparison of Negative Predictive Probabilities (First 100 Molecules)')\n",
    "plt.xlabel('Molecule Index')\n",
    "plt.ylabel('Predicted Negative Probability')\n",
    "plt.legend()\n",
    "plt.grid(True);\n",
    "\n",
    "#Save the plot in data directory\n",
    "path = '../figures/01_model_reproducibility/LineChart_-vePredictiveProbability.png'\n",
    "plt.savefig(path)"
   ]
  },
  {
   "cell_type": "markdown",
   "metadata": {},
   "source": [
    "### Based on the above graphs, it's evident that there's a discrepancy between the results obtained from the publication and those from the Ersilia Model Hub. This inconsistency indicates that the model eos30gr is not reproducible."
   ]
  },
  {
   "cell_type": "code",
   "execution_count": 207,
   "metadata": {},
   "outputs": [
    {
     "data": {
      "text/html": [
       "<div>\n",
       "<style scoped>\n",
       "    .dataframe tbody tr th:only-of-type {\n",
       "        vertical-align: middle;\n",
       "    }\n",
       "\n",
       "    .dataframe tbody tr th {\n",
       "        vertical-align: top;\n",
       "    }\n",
       "\n",
       "    .dataframe thead th {\n",
       "        text-align: right;\n",
       "    }\n",
       "</style>\n",
       "<table border=\"1\" class=\"dataframe\">\n",
       "  <thead>\n",
       "    <tr style=\"text-align: right;\">\n",
       "      <th></th>\n",
       "      <th>DrugBank ID</th>\n",
       "      <th>Name</th>\n",
       "      <th>Smiles</th>\n",
       "      <th>Predicted positive probability</th>\n",
       "      <th>Predicted negative probability</th>\n",
       "      <th>Predicted classification</th>\n",
       "    </tr>\n",
       "  </thead>\n",
       "  <tbody>\n",
       "    <tr>\n",
       "      <th>0</th>\n",
       "      <td>DB11581</td>\n",
       "      <td>Venetoclax</td>\n",
       "      <td>CC1(C)CCC(CN2CCN(c3ccc(C(=O)NS(=O)(=O)c4ccc(NC...</td>\n",
       "      <td>0.440594</td>\n",
       "      <td>0.559406</td>\n",
       "      <td>0</td>\n",
       "    </tr>\n",
       "    <tr>\n",
       "      <th>1</th>\n",
       "      <td>DB11575</td>\n",
       "      <td>Grazoprevir</td>\n",
       "      <td>C=C[C@@H]1C[C@]1(NC(=O)[C@@H]1C[C@@H]2CN1C(=O)...</td>\n",
       "      <td>0.369637</td>\n",
       "      <td>0.630363</td>\n",
       "      <td>0</td>\n",
       "    </tr>\n",
       "    <tr>\n",
       "      <th>2</th>\n",
       "      <td>DB11574</td>\n",
       "      <td>Elbasvir</td>\n",
       "      <td>COC(=O)N[C@H](C(=O)N1CCC[C@H]1c1nc(-c2ccc3c(c2...</td>\n",
       "      <td>0.351485</td>\n",
       "      <td>0.648515</td>\n",
       "      <td>0</td>\n",
       "    </tr>\n",
       "    <tr>\n",
       "      <th>3</th>\n",
       "      <td>DB11560</td>\n",
       "      <td>Lesinurad</td>\n",
       "      <td>O=C(O)CSc1nnc(Br)n1-c1ccc(C2CC2)c2ccccc12</td>\n",
       "      <td>0.329208</td>\n",
       "      <td>0.670792</td>\n",
       "      <td>0</td>\n",
       "    </tr>\n",
       "    <tr>\n",
       "      <th>4</th>\n",
       "      <td>DB11367</td>\n",
       "      <td>Cefroxadine</td>\n",
       "      <td>COC1=C(C(=O)O)N2C(=O)[C@@H](NC(=O)[C@H](N)C3=C...</td>\n",
       "      <td>0.121040</td>\n",
       "      <td>0.878960</td>\n",
       "      <td>0</td>\n",
       "    </tr>\n",
       "    <tr>\n",
       "      <th>...</th>\n",
       "      <td>...</td>\n",
       "      <td>...</td>\n",
       "      <td>...</td>\n",
       "      <td>...</td>\n",
       "      <td>...</td>\n",
       "      <td>...</td>\n",
       "    </tr>\n",
       "    <tr>\n",
       "      <th>1717</th>\n",
       "      <td>DB00219</td>\n",
       "      <td>Oxyphenonium</td>\n",
       "      <td>C/C=C/CC(C)C(O)C1C(=O)NC(CC)C(=O)N(C)CC(=O)N(C...</td>\n",
       "      <td>0.382343</td>\n",
       "      <td>0.617657</td>\n",
       "      <td>0</td>\n",
       "    </tr>\n",
       "    <tr>\n",
       "      <th>1718</th>\n",
       "      <td>DB00218</td>\n",
       "      <td>Moxifloxacin</td>\n",
       "      <td>CC(=O)N[C@H](Cc1ccc2ccccc2c1)C(=O)N[C@H](Cc1cc...</td>\n",
       "      <td>0.516502</td>\n",
       "      <td>0.483498</td>\n",
       "      <td>1</td>\n",
       "    </tr>\n",
       "    <tr>\n",
       "      <th>1719</th>\n",
       "      <td>DB00217</td>\n",
       "      <td>Bethanidine</td>\n",
       "      <td>N=C(N)NCCC[C@H](NC(=O)[C@@H]1CCCN1C(=O)[C@@H]1...</td>\n",
       "      <td>0.481436</td>\n",
       "      <td>0.518564</td>\n",
       "      <td>0</td>\n",
       "    </tr>\n",
       "    <tr>\n",
       "      <th>1720</th>\n",
       "      <td>DB00216</td>\n",
       "      <td>Eletriptan</td>\n",
       "      <td>CC(C)C[C@H](NC(=O)[C@@H](COC(C)(C)C)NC(=O)[C@H...</td>\n",
       "      <td>0.494578</td>\n",
       "      <td>0.505422</td>\n",
       "      <td>0</td>\n",
       "    </tr>\n",
       "    <tr>\n",
       "      <th>1721</th>\n",
       "      <td>DB00215</td>\n",
       "      <td>Citalopram</td>\n",
       "      <td>CC[C@H](C)[C@H](NC(=O)[C@H](CCC(=O)O)NC(=O)[C@...</td>\n",
       "      <td>0.392739</td>\n",
       "      <td>0.607261</td>\n",
       "      <td>0</td>\n",
       "    </tr>\n",
       "  </tbody>\n",
       "</table>\n",
       "<p>1722 rows × 6 columns</p>\n",
       "</div>"
      ],
      "text/plain": [
       "     DrugBank ID          Name  \\\n",
       "0        DB11581    Venetoclax   \n",
       "1        DB11575   Grazoprevir   \n",
       "2        DB11574      Elbasvir   \n",
       "3        DB11560     Lesinurad   \n",
       "4        DB11367   Cefroxadine   \n",
       "...          ...           ...   \n",
       "1717     DB00219  Oxyphenonium   \n",
       "1718     DB00218  Moxifloxacin   \n",
       "1719     DB00217   Bethanidine   \n",
       "1720     DB00216    Eletriptan   \n",
       "1721     DB00215    Citalopram   \n",
       "\n",
       "                                                 Smiles  \\\n",
       "0     CC1(C)CCC(CN2CCN(c3ccc(C(=O)NS(=O)(=O)c4ccc(NC...   \n",
       "1     C=C[C@@H]1C[C@]1(NC(=O)[C@@H]1C[C@@H]2CN1C(=O)...   \n",
       "2     COC(=O)N[C@H](C(=O)N1CCC[C@H]1c1nc(-c2ccc3c(c2...   \n",
       "3             O=C(O)CSc1nnc(Br)n1-c1ccc(C2CC2)c2ccccc12   \n",
       "4     COC1=C(C(=O)O)N2C(=O)[C@@H](NC(=O)[C@H](N)C3=C...   \n",
       "...                                                 ...   \n",
       "1717  C/C=C/CC(C)C(O)C1C(=O)NC(CC)C(=O)N(C)CC(=O)N(C...   \n",
       "1718  CC(=O)N[C@H](Cc1ccc2ccccc2c1)C(=O)N[C@H](Cc1cc...   \n",
       "1719  N=C(N)NCCC[C@H](NC(=O)[C@@H]1CCCN1C(=O)[C@@H]1...   \n",
       "1720  CC(C)C[C@H](NC(=O)[C@@H](COC(C)(C)C)NC(=O)[C@H...   \n",
       "1721  CC[C@H](C)[C@H](NC(=O)[C@H](CCC(=O)O)NC(=O)[C@...   \n",
       "\n",
       "      Predicted positive probability  Predicted negative probability  \\\n",
       "0                           0.440594                        0.559406   \n",
       "1                           0.369637                        0.630363   \n",
       "2                           0.351485                        0.648515   \n",
       "3                           0.329208                        0.670792   \n",
       "4                           0.121040                        0.878960   \n",
       "...                              ...                             ...   \n",
       "1717                        0.382343                        0.617657   \n",
       "1718                        0.516502                        0.483498   \n",
       "1719                        0.481436                        0.518564   \n",
       "1720                        0.494578                        0.505422   \n",
       "1721                        0.392739                        0.607261   \n",
       "\n",
       "      Predicted classification  \n",
       "0                            0  \n",
       "1                            0  \n",
       "2                            0  \n",
       "3                            0  \n",
       "4                            0  \n",
       "...                        ...  \n",
       "1717                         0  \n",
       "1718                         1  \n",
       "1719                         0  \n",
       "1720                         0  \n",
       "1721                         0  \n",
       "\n",
       "[1722 rows x 6 columns]"
      ]
     },
     "execution_count": 207,
     "metadata": {},
     "output_type": "execute_result"
    }
   ],
   "source": [
    "df_predicted"
   ]
  },
  {
   "cell_type": "code",
   "execution_count": 208,
   "metadata": {},
   "outputs": [
    {
     "data": {
      "image/png": "[encoded data removed]",
      "text/plain": [
       "<Figure size 800x600 with 1 Axes>"
      ]
     },
     "metadata": {},
     "output_type": "display_data"
    }
   ],
   "source": [
    "# In this codeblock I will recreate the figure or value I am to reproduce, for example an AUROC\n",
    "\n",
    "y_true = df_predicted['Predicted classification'].astype(int)\n",
    "\n",
    "y_pred_prob = df_predicted['Predicted positive probability']\n",
    "\n",
    "# Compute ROC curve and AUC\n",
    "fpr, tpr, thresholds = roc_curve(y_true, y_pred_prob)\n",
    "roc_auc = auc(fpr, tpr)\n",
    "\n",
    "# Plot ROC curve\n",
    "plt.figure(figsize=(8, 6))\n",
    "plt.plot(fpr, tpr, color='blue', lw=2, label='ROC curve')\n",
    "plt.plot([0, 1], [0, 1], color='gray', linestyle='--', lw=2, label='Random')\n",
    "plt.xlabel('False Positive Rate')\n",
    "plt.ylabel('True Positive Rate')\n",
    "plt.title('Receiver Operating Characteristic (ROC) Curve')\n",
    "plt.legend(loc='lower right')\n",
    "plt.grid(True);"
   ]
  },
  {
   "cell_type": "code",
   "execution_count": 209,
   "metadata": {},
   "outputs": [
    {
     "data": {
      "application/vnd.plotly.v1+json": {
       "config": {
        "plotlyServerURL": "https://plot.ly"
       },
       "data": [
        {
         "mode": "lines",
         "name": "ROC curve",
         "type": "scatter",
         "x": [
          0,
          0,
          0,
          0,
          0,
          0,
          0,
          0,
          0,
          0,
          0,
          0,
          0,
          0,
          0,
          0,
          0,
          0,
          0,
          0,
          0,
          0,
          0,
          0,
          0,
          0,
          0,
          0,
          0,
          0,
          0,
          0,
          0,
          0,
          0,
          0,
          0,
          0,
          0,
          0,
          0,
          0,
          0,
          0,
          0,
          0,
          0,
          0,
          0,
          0,
          0,
          0,
          0,
          0,
          0,
          0,
          0,
          0,
          0,
          0,
          0,
          0,
          0,
          0,
          0,
          0,
          0,
          0,
          0,
          0,
          0,
          0,
          0,
          0,
          0,
          0,
          0,
          0,
          0,
          0,
          0,
          0,
          0,
          0,
          0,
          0,
          0,
          0,
          0,
          0,
          0,
          0,
          0,
          0,
          0,
          0,
          0,
          0,
          0.002288329519450801,
          0.0038138825324180014,
          0.010678871090770405,
          0.012204424103737605,
          0.012967200610221205,
          0.015255530129672006,
          0.016018306636155607,
          0.017543859649122806,
          0.01906941266209001,
          0.020594965675057208,
          0.02288329519450801,
          0.02440884820747521,
          0.02517162471395881,
          0.02669717772692601,
          0.02822273073989321,
          0.029748283752860413,
          0.03737604881769641,
          0.03966437833714721,
          0.041952707856598014,
          0.04424103737604882,
          0.04958047292143402,
          0.05186880244088482,
          0.06178489702517163,
          0.06331045003813883,
          0.06864988558352403,
          0.07017543859649122,
          0.07780320366132723,
          0.08009153318077804,
          0.08466819221967964,
          0.08771929824561403,
          0.09305873379099924,
          0.09458428680396644,
          0.09763539282990084,
          0.09992372234935164,
          0.10221205186880244,
          0.10450038138825324,
          0.10526315789473684,
          0.10678871090770405,
          0.10983981693363844,
          0.11289092295957284,
          0.11441647597254005,
          0.11746758199847444,
          0.12204424103737604,
          0.13501144164759726,
          0.13653699466056446,
          0.13729977116704806,
          0.13882532418001525,
          0.14874141876430205,
          0.15026697177726925,
          0.15102974828375287,
          0.15255530129672007,
          0.15560640732265446,
          0.15713196033562166,
          0.15865751334858885,
          0.16170861937452327,
          0.16323417238749047,
          0.16628527841342486,
          0.16704805491990846,
          0.16933638443935928,
          0.17238749046529367,
          0.17391304347826086,
          0.17543859649122806,
          0.17696414950419528,
          0.18840579710144928,
          0.18993135011441648,
          0.1952707856598017,
          0.19832189168573608,
          0.2036613272311213,
          0.20671243325705568,
          0.21052631578947367,
          0.2135774218154081,
          0.21891685736079328,
          0.2227307398932113,
          0.22654462242562928,
          0.2288329519450801,
          0.2303585049580473,
          0.2318840579710145,
          0.2326468344774981,
          0.2341723874904653,
          0.2349351639969489,
          0.2379862700228833,
          0.2562929061784897,
          0.2608695652173913,
          0.26926010678871093,
          0.2707856598016781,
          0.2723112128146453,
          0.2753623188405797,
          0.2776506483600305,
          0.2799389778794813,
          0.2829900839054157,
          0.28451563691838294,
          0.28680396643783374,
          0.28909229595728453,
          0.2944317315026697,
          0.2959572845156369,
          0.2982456140350877,
          0.2997711670480549,
          0.3012967200610221,
          0.30282227307398935,
          0.30587337909992374,
          0.30739893211289093,
          0.3096872616323417,
          0.3112128146453089,
          0.3142639206712433,
          0.3173150266971777,
          0.32723112128146453,
          0.3302822273073989,
          0.3318077803203661,
          0.3340961098398169,
          0.33714721586575136,
          0.34019832189168575,
          0.34248665141113654,
          0.34401220442410374,
          0.34477498093058734,
          0.34630053394355453,
          0.35392829900839057,
          0.35621662852784136,
          0.35774218154080856,
          0.35926773455377575,
          0.36003051106025935,
          0.36155606407322655,
          0.36613272311212813,
          0.3684210526315789,
          0.3699466056445461,
          0.37223493516399697,
          0.37376048817696417,
          0.37528604118993136,
          0.37604881769641496,
          0.37833714721586575,
          0.38443935926773454,
          0.38596491228070173,
          0.3882532418001526,
          0.3897787948131198,
          0.391304347826087,
          0.39435545385202136,
          0.39588100686498856,
          0.39816933638443935,
          0.40122044241037375,
          0.40198321891685734,
          0.40503432494279173,
          0.4057971014492754,
          0.4088482074752098,
          0.4111365369946606,
          0.41266209000762777,
          0.41342486651411137,
          0.41571319603356216,
          0.41876430205949655,
          0.42028985507246375,
          0.4241037376048818,
          0.4271548436308162,
          0.4309687261632342,
          0.43249427917620137,
          0.43554538520213576,
          0.43935926773455375,
          0.4454614797864226,
          0.45156369183829137,
          0.4569031273836766,
          0.4584286803966438,
          0.459954233409611,
          0.463768115942029,
          0.4660564454614798,
          0.467581998474447,
          0.4683447749809306,
          0.47139588100686497,
          0.47368421052631576,
          0.479023646071701,
          0.4797864225781846,
          0.4813119755911518,
          0.482837528604119,
          0.4843630816170862,
          0.4881769641495042,
          0.4927536231884058,
          0.4935163996948894,
          0.4965675057208238,
          0.501906941266209,
          0.5034324942791762,
          0.5087719298245614,
          0.5118230358504958,
          0.513348588863463,
          0.5156369183829138,
          0.5202135774218154,
          0.5217391304347826,
          0.5232646834477498,
          0.524790236460717,
          0.5308924485125858,
          0.5369946605644547,
          0.5415713196033562,
          0.5423340961098398,
          0.543859649122807,
          0.5453852021357742,
          0.547673531655225,
          0.5491990846681922,
          0.5507246376811594,
          0.5522501906941266,
          0.5545385202135774,
          0.5583524027459954,
          0.5606407322654462,
          0.566742944317315,
          0.5690312738367659,
          0.5713196033562167,
          0.5736079328756675,
          0.5766590389016019,
          0.5789473684210527,
          0.5804729214340199,
          0.5842868039664378,
          0.5911517925247902,
          0.5926773455377574,
          0.597254004576659,
          0.6018306636155606,
          0.6071700991609459,
          0.6102212051868803,
          0.6147978642257819,
          0.6193745232646835,
          0.6216628527841342,
          0.6285278413424866,
          0.6300533943554538,
          0.6308161708619374,
          0.6338672768878718,
          0.6399694889397407,
          0.6414950419527079,
          0.6437833714721587,
          0.6468344774980931,
          0.6475972540045767,
          0.6498855835240275,
          0.6529366895499619,
          0.6552250190694127,
          0.6567505720823799,
          0.6598016781083142,
          0.6613272311212814,
          0.6636155606407322,
          0.6681922196796338,
          0.6712433257055682,
          0.6735316552250191,
          0.6750572082379863,
          0.6796338672768879,
          0.6849733028222731,
          0.6872616323417239,
          0.6880244088482075,
          0.6895499618611747,
          0.6941266209000763,
          0.6964149504195271,
          0.6987032799389779,
          0.7009916094584286,
          0.7025171624713958,
          0.704042715484363,
          0.7078565980167811,
          0.7086193745232647,
          0.7101449275362319,
          0.7116704805491991,
          0.7139588100686499,
          0.7154843630816171,
          0.7185354691075515,
          0.7192982456140351,
          0.7208237986270023,
          0.7215865751334859,
          0.7246376811594203,
          0.7284515636918383,
          0.7322654462242563,
          0.7360793287566743,
          0.738367658276125,
          0.7398932112890922,
          0.7414187643020596,
          0.7452326468344775,
          0.7490465293668955,
          0.7505720823798627,
          0.7513348588863463,
          0.7528604118993135,
          0.7536231884057971,
          0.7551487414187643,
          0.7559115179252479,
          0.7574370709382151,
          0.7597254004576659,
          0.7612509534706331,
          0.7650648360030511,
          0.7681159420289855,
          0.7696414950419527,
          0.7726926010678871,
          0.7795575896262396,
          0.7810831426392068,
          0.7833714721586575,
          0.7879481311975591,
          0.7902364607170099,
          0.7917620137299771,
          0.7932875667429443,
          0.7948131197559115,
          0.7955758962623951,
          0.7978642257818459,
          0.7993897787948131,
          0.8009153318077803,
          0.8024408848207475,
          0.8039664378337147,
          0.8085430968726163,
          0.8100686498855835,
          0.8115942028985508,
          0.8138825324180016,
          0.8154080854309688,
          0.8176964149504196,
          0.8199847444698704,
          0.8230358504958047,
          0.8276125095347063,
          0.8306636155606407,
          0.8367658276125095,
          0.8390541571319603,
          0.8405797101449275,
          0.8413424866514111,
          0.8443935926773455,
          0.84744469870328,
          0.8489702517162472,
          0.8520213577421816,
          0.855072463768116,
          0.8558352402745996,
          0.8573607932875668,
          0.8604118993135011,
          0.8642257818459191,
          0.8665141113653699,
          0.8688024408848207,
          0.8733790999237223,
          0.8749046529366895,
          0.8756674294431731,
          0.8787185354691075,
          0.8863463005339436,
          0.8878718535469108,
          0.889397406559878,
          0.8909229595728452,
          0.8916857360793288,
          0.893211289092296,
          0.8985507246376812,
          0.9031273836765827,
          0.9084668192219679,
          0.9115179252479023,
          0.9168573607932876,
          0.9183829138062548,
          0.9191456903127384,
          0.9206712433257056,
          0.9244851258581236,
          0.927536231884058,
          0.9305873379099924,
          0.9328756674294432,
          0.9359267734553776,
          0.9366895499618612,
          0.9382151029748284,
          0.9405034324942791,
          0.9427917620137299,
          0.9458428680396643,
          0.9488939740655988,
          0.950419527078566,
          0.9534706331045004,
          0.9572845156369184,
          0.9595728451563692,
          0.9626239511823036,
          0.9633867276887872,
          0.9649122807017544,
          0.9679633867276888,
          0.9702517162471396,
          0.9725400457665904,
          0.973302822273074,
          0.9748283752860412,
          0.9763539282990084,
          0.9862700228832952,
          0.9877955758962624,
          0.9931350114416476,
          1
         ],
         "y": [
          0,
          0.012165450121654502,
          0.021897810218978103,
          0.0267639902676399,
          0.043795620437956206,
          0.046228710462287104,
          0.07542579075425791,
          0.0851581508515815,
          0.0948905109489051,
          0.09975669099756691,
          0.10948905109489052,
          0.12895377128953772,
          0.13381995133819952,
          0.1435523114355231,
          0.145985401459854,
          0.15085158150851583,
          0.1630170316301703,
          0.170316301703163,
          0.17274939172749393,
          0.18004866180048662,
          0.1897810218978102,
          0.19464720194647203,
          0.19708029197080293,
          0.20437956204379562,
          0.20681265206812652,
          0.2116788321167883,
          0.22141119221411193,
          0.22627737226277372,
          0.22871046228710462,
          0.2360097323600973,
          0.24817518248175183,
          0.25304136253041365,
          0.26034063260340634,
          0.26763990267639903,
          0.2895377128953771,
          0.2944038929440389,
          0.30656934306569344,
          0.31143552311435524,
          0.31630170316301703,
          0.32116788321167883,
          0.34306569343065696,
          0.34793187347931875,
          0.35523114355231145,
          0.36496350364963503,
          0.3746958637469586,
          0.3844282238442822,
          0.40145985401459855,
          0.40632603406326034,
          0.40875912408759124,
          0.41362530413625304,
          0.41605839416058393,
          0.4209245742092457,
          0.4257907542579075,
          0.43309002433090027,
          0.45985401459854014,
          0.46472019464720193,
          0.5012165450121655,
          0.5085158150851582,
          0.5328467153284672,
          0.537712895377129,
          0.5547445255474452,
          0.559610705596107,
          0.5742092457420924,
          0.5815085158150851,
          0.6082725060827251,
          0.6131386861313869,
          0.6277372262773723,
          0.6374695863746959,
          0.681265206812652,
          0.6885644768856448,
          0.6982968369829684,
          0.7031630170316302,
          0.7420924574209246,
          0.7566909975669099,
          0.7761557177615572,
          0.781021897810219,
          0.7907542579075426,
          0.7956204379562044,
          0.8004866180048662,
          0.805352798053528,
          0.8175182481751825,
          0.8223844282238443,
          0.8272506082725061,
          0.8321167883211679,
          0.8588807785888077,
          0.8637469586374696,
          0.8661800486618005,
          0.8710462287104623,
          0.8734793187347932,
          0.878345498783455,
          0.8807785888077859,
          0.8856447688564477,
          0.9002433090024331,
          0.9051094890510949,
          0.9513381995133819,
          0.9562043795620438,
          0.9854014598540146,
          1,
          1,
          1,
          1,
          1,
          1,
          1,
          1,
          1,
          1,
          1,
          1,
          1,
          1,
          1,
          1,
          1,
          1,
          1,
          1,
          1,
          1,
          1,
          1,
          1,
          1,
          1,
          1,
          1,
          1,
          1,
          1,
          1,
          1,
          1,
          1,
          1,
          1,
          1,
          1,
          1,
          1,
          1,
          1,
          1,
          1,
          1,
          1,
          1,
          1,
          1,
          1,
          1,
          1,
          1,
          1,
          1,
          1,
          1,
          1,
          1,
          1,
          1,
          1,
          1,
          1,
          1,
          1,
          1,
          1,
          1,
          1,
          1,
          1,
          1,
          1,
          1,
          1,
          1,
          1,
          1,
          1,
          1,
          1,
          1,
          1,
          1,
          1,
          1,
          1,
          1,
          1,
          1,
          1,
          1,
          1,
          1,
          1,
          1,
          1,
          1,
          1,
          1,
          1,
          1,
          1,
          1,
          1,
          1,
          1,
          1,
          1,
          1,
          1,
          1,
          1,
          1,
          1,
          1,
          1,
          1,
          1,
          1,
          1,
          1,
          1,
          1,
          1,
          1,
          1,
          1,
          1,
          1,
          1,
          1,
          1,
          1,
          1,
          1,
          1,
          1,
          1,
          1,
          1,
          1,
          1,
          1,
          1,
          1,
          1,
          1,
          1,
          1,
          1,
          1,
          1,
          1,
          1,
          1,
          1,
          1,
          1,
          1,
          1,
          1,
          1,
          1,
          1,
          1,
          1,
          1,
          1,
          1,
          1,
          1,
          1,
          1,
          1,
          1,
          1,
          1,
          1,
          1,
          1,
          1,
          1,
          1,
          1,
          1,
          1,
          1,
          1,
          1,
          1,
          1,
          1,
          1,
          1,
          1,
          1,
          1,
          1,
          1,
          1,
          1,
          1,
          1,
          1,
          1,
          1,
          1,
          1,
          1,
          1,
          1,
          1,
          1,
          1,
          1,
          1,
          1,
          1,
          1,
          1,
          1,
          1,
          1,
          1,
          1,
          1,
          1,
          1,
          1,
          1,
          1,
          1,
          1,
          1,
          1,
          1,
          1,
          1,
          1,
          1,
          1,
          1,
          1,
          1,
          1,
          1,
          1,
          1,
          1,
          1,
          1,
          1,
          1,
          1,
          1,
          1,
          1,
          1,
          1,
          1,
          1,
          1,
          1,
          1,
          1,
          1,
          1,
          1,
          1,
          1,
          1,
          1,
          1,
          1,
          1,
          1,
          1,
          1,
          1,
          1,
          1,
          1,
          1,
          1,
          1,
          1,
          1,
          1,
          1,
          1,
          1,
          1,
          1,
          1,
          1,
          1,
          1,
          1,
          1,
          1,
          1,
          1,
          1,
          1,
          1,
          1,
          1,
          1,
          1,
          1,
          1,
          1,
          1,
          1,
          1,
          1,
          1,
          1,
          1,
          1,
          1,
          1,
          1,
          1,
          1,
          1,
          1,
          1,
          1,
          1,
          1,
          1,
          1,
          1,
          1,
          1,
          1,
          1,
          1,
          1,
          1,
          1,
          1,
          1,
          1,
          1,
          1,
          1,
          1,
          1,
          1,
          1,
          1,
          1,
          1,
          1,
          1,
          1,
          1
         ]
        },
        {
         "mode": "markers+text",
         "name": "Threshold points",
         "text": [
          "Thr=2.00",
          "Thr=0.83",
          "Thr=0.56",
          "Thr=0.46",
          "Thr=0.39",
          "Thr=0.31",
          "Thr=0.26",
          "Thr=0.21",
          "Thr=0.17",
          "Thr=0.14",
          "Thr=0.09",
          "Thr=0.04"
         ],
         "textposition": "top center",
         "type": "scatter",
         "x": [
          0,
          0,
          0,
          0.06178489702517163,
          0.17696414950419528,
          0.3112128146453089,
          0.4111365369946606,
          0.5232646834477498,
          0.6475972540045767,
          0.7452326468344775,
          0.8390541571319603,
          0.9427917620137299
         ],
         "y": [
          0,
          0.34306569343065696,
          0.8175182481751825,
          1,
          1,
          1,
          1,
          1,
          1,
          1,
          1,
          1
         ]
        },
        {
         "line": {
          "dash": "dash"
         },
         "mode": "lines",
         "name": "Random (Area=0.5)",
         "type": "scatter",
         "x": [
          0,
          1
         ],
         "y": [
          0,
          1
         ]
        }
       ],
       "layout": {
        "autosize": false,
        "height": 800,
        "showlegend": false,
        "template": {
         "data": {
          "bar": [
           {
            "error_x": {
             "color": "#2a3f5f"
            },
            "error_y": {
             "color": "#2a3f5f"
            },
            "marker": {
             "line": {
              "color": "#E5ECF6",
              "width": 0.5
             },
             "pattern": {
              "fillmode": "overlay",
              "size": 10,
              "solidity": 0.2
             }
            },
            "type": "bar"
           }
          ],
          "barpolar": [
           {
            "marker": {
             "line": {
              "color": "#E5ECF6",
              "width": 0.5
             },
             "pattern": {
              "fillmode": "overlay",
              "size": 10,
              "solidity": 0.2
             }
            },
            "type": "barpolar"
           }
          ],
          "carpet": [
           {
            "aaxis": {
             "endlinecolor": "#2a3f5f",
             "gridcolor": "white",
             "linecolor": "white",
             "minorgridcolor": "white",
             "startlinecolor": "#2a3f5f"
            },
            "baxis": {
             "endlinecolor": "#2a3f5f",
             "gridcolor": "white",
             "linecolor": "white",
             "minorgridcolor": "white",
             "startlinecolor": "#2a3f5f"
            },
            "type": "carpet"
           }
          ],
          "choropleth": [
           {
            "colorbar": {
             "outlinewidth": 0,
             "ticks": ""
            },
            "type": "choropleth"
           }
          ],
          "contour": [
           {
            "colorbar": {
             "outlinewidth": 0,
             "ticks": ""
            },
            "colorscale": [
             [
              0,
              "#0d0887"
             ],
             [
              0.1111111111111111,
              "#46039f"
             ],
             [
              0.2222222222222222,
              "#7201a8"
             ],
             [
              0.3333333333333333,
              "#9c179e"
             ],
             [
              0.4444444444444444,
              "#bd3786"
             ],
             [
              0.5555555555555556,
              "#d8576b"
             ],
             [
              0.6666666666666666,
              "#ed7953"
             ],
             [
              0.7777777777777778,
              "#fb9f3a"
             ],
             [
              0.8888888888888888,
              "#fdca26"
             ],
             [
              1,
              "#f0f921"
             ]
            ],
            "type": "contour"
           }
          ],
          "contourcarpet": [
           {
            "colorbar": {
             "outlinewidth": 0,
             "ticks": ""
            },
            "type": "contourcarpet"
           }
          ],
          "heatmap": [
           {
            "colorbar": {
             "outlinewidth": 0,
             "ticks": ""
            },
            "colorscale": [
             [
              0,
              "#0d0887"
             ],
             [
              0.1111111111111111,
              "#46039f"
             ],
             [
              0.2222222222222222,
              "#7201a8"
             ],
             [
              0.3333333333333333,
              "#9c179e"
             ],
             [
              0.4444444444444444,
              "#bd3786"
             ],
             [
              0.5555555555555556,
              "#d8576b"
             ],
             [
              0.6666666666666666,
              "#ed7953"
             ],
             [
              0.7777777777777778,
              "#fb9f3a"
             ],
             [
              0.8888888888888888,
              "#fdca26"
             ],
             [
              1,
              "#f0f921"
             ]
            ],
            "type": "heatmap"
           }
          ],
          "heatmapgl": [
           {
            "colorbar": {
             "outlinewidth": 0,
             "ticks": ""
            },
            "colorscale": [
             [
              0,
              "#0d0887"
             ],
             [
              0.1111111111111111,
              "#46039f"
             ],
             [
              0.2222222222222222,
              "#7201a8"
             ],
             [
              0.3333333333333333,
              "#9c179e"
             ],
             [
              0.4444444444444444,
              "#bd3786"
             ],
             [
              0.5555555555555556,
              "#d8576b"
             ],
             [
              0.6666666666666666,
              "#ed7953"
             ],
             [
              0.7777777777777778,
              "#fb9f3a"
             ],
             [
              0.8888888888888888,
              "#fdca26"
             ],
             [
              1,
              "#f0f921"
             ]
            ],
            "type": "heatmapgl"
           }
          ],
          "histogram": [
           {
            "marker": {
             "pattern": {
              "fillmode": "overlay",
              "size": 10,
              "solidity": 0.2
             }
            },
            "type": "histogram"
           }
          ],
          "histogram2d": [
           {
            "colorbar": {
             "outlinewidth": 0,
             "ticks": ""
            },
            "colorscale": [
             [
              0,
              "#0d0887"
             ],
             [
              0.1111111111111111,
              "#46039f"
             ],
             [
              0.2222222222222222,
              "#7201a8"
             ],
             [
              0.3333333333333333,
              "#9c179e"
             ],
             [
              0.4444444444444444,
              "#bd3786"
             ],
             [
              0.5555555555555556,
              "#d8576b"
             ],
             [
              0.6666666666666666,
              "#ed7953"
             ],
             [
              0.7777777777777778,
              "#fb9f3a"
             ],
             [
              0.8888888888888888,
              "#fdca26"
             ],
             [
              1,
              "#f0f921"
             ]
            ],
            "type": "histogram2d"
           }
          ],
          "histogram2dcontour": [
           {
            "colorbar": {
             "outlinewidth": 0,
             "ticks": ""
            },
            "colorscale": [
             [
              0,
              "#0d0887"
             ],
             [
              0.1111111111111111,
              "#46039f"
             ],
             [
              0.2222222222222222,
              "#7201a8"
             ],
             [
              0.3333333333333333,
              "#9c179e"
             ],
             [
              0.4444444444444444,
              "#bd3786"
             ],
             [
              0.5555555555555556,
              "#d8576b"
             ],
             [
              0.6666666666666666,
              "#ed7953"
             ],
             [
              0.7777777777777778,
              "#fb9f3a"
             ],
             [
              0.8888888888888888,
              "#fdca26"
             ],
             [
              1,
              "#f0f921"
             ]
            ],
            "type": "histogram2dcontour"
           }
          ],
          "mesh3d": [
           {
            "colorbar": {
             "outlinewidth": 0,
             "ticks": ""
            },
            "type": "mesh3d"
           }
          ],
          "parcoords": [
           {
            "line": {
             "colorbar": {
              "outlinewidth": 0,
              "ticks": ""
             }
            },
            "type": "parcoords"
           }
          ],
          "pie": [
           {
            "automargin": true,
            "type": "pie"
           }
          ],
          "scatter": [
           {
            "fillpattern": {
             "fillmode": "overlay",
             "size": 10,
             "solidity": 0.2
            },
            "type": "scatter"
           }
          ],
          "scatter3d": [
           {
            "line": {
             "colorbar": {
              "outlinewidth": 0,
              "ticks": ""
             }
            },
            "marker": {
             "colorbar": {
              "outlinewidth": 0,
              "ticks": ""
             }
            },
            "type": "scatter3d"
           }
          ],
          "scattercarpet": [
           {
            "marker": {
             "colorbar": {
              "outlinewidth": 0,
              "ticks": ""
             }
            },
            "type": "scattercarpet"
           }
          ],
          "scattergeo": [
           {
            "marker": {
             "colorbar": {
              "outlinewidth": 0,
              "ticks": ""
             }
            },
            "type": "scattergeo"
           }
          ],
          "scattergl": [
           {
            "marker": {
             "colorbar": {
              "outlinewidth": 0,
              "ticks": ""
             }
            },
            "type": "scattergl"
           }
          ],
          "scattermapbox": [
           {
            "marker": {
             "colorbar": {
              "outlinewidth": 0,
              "ticks": ""
             }
            },
            "type": "scattermapbox"
           }
          ],
          "scatterpolar": [
           {
            "marker": {
             "colorbar": {
              "outlinewidth": 0,
              "ticks": ""
             }
            },
            "type": "scatterpolar"
           }
          ],
          "scatterpolargl": [
           {
            "marker": {
             "colorbar": {
              "outlinewidth": 0,
              "ticks": ""
             }
            },
            "type": "scatterpolargl"
           }
          ],
          "scatterternary": [
           {
            "marker": {
             "colorbar": {
              "outlinewidth": 0,
              "ticks": ""
             }
            },
            "type": "scatterternary"
           }
          ],
          "surface": [
           {
            "colorbar": {
             "outlinewidth": 0,
             "ticks": ""
            },
            "colorscale": [
             [
              0,
              "#0d0887"
             ],
             [
              0.1111111111111111,
              "#46039f"
             ],
             [
              0.2222222222222222,
              "#7201a8"
             ],
             [
              0.3333333333333333,
              "#9c179e"
             ],
             [
              0.4444444444444444,
              "#bd3786"
             ],
             [
              0.5555555555555556,
              "#d8576b"
             ],
             [
              0.6666666666666666,
              "#ed7953"
             ],
             [
              0.7777777777777778,
              "#fb9f3a"
             ],
             [
              0.8888888888888888,
              "#fdca26"
             ],
             [
              1,
              "#f0f921"
             ]
            ],
            "type": "surface"
           }
          ],
          "table": [
           {
            "cells": {
             "fill": {
              "color": "#EBF0F8"
             },
             "line": {
              "color": "white"
             }
            },
            "header": {
             "fill": {
              "color": "#C8D4E3"
             },
             "line": {
              "color": "white"
             }
            },
            "type": "table"
           }
          ]
         },
         "layout": {
          "annotationdefaults": {
           "arrowcolor": "#2a3f5f",
           "arrowhead": 0,
           "arrowwidth": 1
          },
          "autotypenumbers": "strict",
          "coloraxis": {
           "colorbar": {
            "outlinewidth": 0,
            "ticks": ""
           }
          },
          "colorscale": {
           "diverging": [
            [
             0,
             "#8e0152"
            ],
            [
             0.1,
             "#c51b7d"
            ],
            [
             0.2,
             "#de77ae"
            ],
            [
             0.3,
             "#f1b6da"
            ],
            [
             0.4,
             "#fde0ef"
            ],
            [
             0.5,
             "#f7f7f7"
            ],
            [
             0.6,
             "#e6f5d0"
            ],
            [
             0.7,
             "#b8e186"
            ],
            [
             0.8,
             "#7fbc41"
            ],
            [
             0.9,
             "#4d9221"
            ],
            [
             1,
             "#276419"
            ]
           ],
           "sequential": [
            [
             0,
             "#0d0887"
            ],
            [
             0.1111111111111111,
             "#46039f"
            ],
            [
             0.2222222222222222,
             "#7201a8"
            ],
            [
             0.3333333333333333,
             "#9c179e"
            ],
            [
             0.4444444444444444,
             "#bd3786"
            ],
            [
             0.5555555555555556,
             "#d8576b"
            ],
            [
             0.6666666666666666,
             "#ed7953"
            ],
            [
             0.7777777777777778,
             "#fb9f3a"
            ],
            [
             0.8888888888888888,
             "#fdca26"
            ],
            [
             1,
             "#f0f921"
            ]
           ],
           "sequentialminus": [
            [
             0,
             "#0d0887"
            ],
            [
             0.1111111111111111,
             "#46039f"
            ],
            [
             0.2222222222222222,
             "#7201a8"
            ],
            [
             0.3333333333333333,
             "#9c179e"
            ],
            [
             0.4444444444444444,
             "#bd3786"
            ],
            [
             0.5555555555555556,
             "#d8576b"
            ],
            [
             0.6666666666666666,
             "#ed7953"
            ],
            [
             0.7777777777777778,
             "#fb9f3a"
            ],
            [
             0.8888888888888888,
             "#fdca26"
            ],
            [
             1,
             "#f0f921"
            ]
           ]
          },
          "colorway": [
           "#636efa",
           "#EF553B",
           "#00cc96",
           "#ab63fa",
           "#FFA15A",
           "#19d3f3",
           "#FF6692",
           "#B6E880",
           "#FF97FF",
           "#FECB52"
          ],
          "font": {
           "color": "#2a3f5f"
          },
          "geo": {
           "bgcolor": "white",
           "lakecolor": "white",
           "landcolor": "#E5ECF6",
           "showlakes": true,
           "showland": true,
           "subunitcolor": "white"
          },
          "hoverlabel": {
           "align": "left"
          },
          "hovermode": "closest",
          "mapbox": {
           "style": "light"
          },
          "paper_bgcolor": "white",
          "plot_bgcolor": "#E5ECF6",
          "polar": {
           "angularaxis": {
            "gridcolor": "white",
            "linecolor": "white",
            "ticks": ""
           },
           "bgcolor": "#E5ECF6",
           "radialaxis": {
            "gridcolor": "white",
            "linecolor": "white",
            "ticks": ""
           }
          },
          "scene": {
           "xaxis": {
            "backgroundcolor": "#E5ECF6",
            "gridcolor": "white",
            "gridwidth": 2,
            "linecolor": "white",
            "showbackground": true,
            "ticks": "",
            "zerolinecolor": "white"
           },
           "yaxis": {
            "backgroundcolor": "#E5ECF6",
            "gridcolor": "white",
            "gridwidth": 2,
            "linecolor": "white",
            "showbackground": true,
            "ticks": "",
            "zerolinecolor": "white"
           },
           "zaxis": {
            "backgroundcolor": "#E5ECF6",
            "gridcolor": "white",
            "gridwidth": 2,
            "linecolor": "white",
            "showbackground": true,
            "ticks": "",
            "zerolinecolor": "white"
           }
          },
          "shapedefaults": {
           "line": {
            "color": "#2a3f5f"
           }
          },
          "ternary": {
           "aaxis": {
            "gridcolor": "white",
            "linecolor": "white",
            "ticks": ""
           },
           "baxis": {
            "gridcolor": "white",
            "linecolor": "white",
            "ticks": ""
           },
           "bgcolor": "#E5ECF6",
           "caxis": {
            "gridcolor": "white",
            "linecolor": "white",
            "ticks": ""
           }
          },
          "title": {
           "x": 0.05
          },
          "xaxis": {
           "automargin": true,
           "gridcolor": "white",
           "linecolor": "white",
           "ticks": "",
           "title": {
            "standoff": 15
           },
           "zerolinecolor": "white",
           "zerolinewidth": 2
          },
          "yaxis": {
           "automargin": true,
           "gridcolor": "white",
           "linecolor": "white",
           "ticks": "",
           "title": {
            "standoff": 15
           },
           "zerolinecolor": "white",
           "zerolinewidth": 2
          }
         }
        },
        "title": {
         "text": "Receiver Operating Charactersitivcs"
        },
        "width": 800,
        "xaxis": {
         "autorange": true,
         "range": [
          -0.05928725680209472,
          1.0020790188158246
         ],
         "title": {
          "text": "False positive rate"
         },
         "type": "linear"
        },
        "yaxis": {
         "autorange": true,
         "range": [
          -0.0631244323342416,
          1.0631244323342417
         ],
         "title": {
          "text": "True positive rate"
         },
         "type": "linear"
        }
       }
      },
      "image/png": "[encoded data removed]",
      "text/html": [
       "<div>                            <div id=\"38ca7043-86eb-40b0-89d6-ca6aa80b9f32\" class=\"plotly-graph-div\" style=\"height:800px; width:800px;\"></div>            <script type=\"text/javascript\">                require([\"plotly\"], function(Plotly) {                    window.PLOTLYENV=window.PLOTLYENV || {};                                    if (document.getElementById(\"38ca7043-86eb-40b0-89d6-ca6aa80b9f32\")) {                    Plotly.newPlot(                        \"38ca7043-86eb-40b0-89d6-ca6aa80b9f32\",                        [{\"mode\":\"lines\",\"name\":\"ROC curve\",\"x\":[0.0,0.0,0.0,0.0,0.0,0.0,0.0,0.0,0.0,0.0,0.0,0.0,0.0,0.0,0.0,0.0,0.0,0.0,0.0,0.0,0.0,0.0,0.0,0.0,0.0,0.0,0.0,0.0,0.0,0.0,0.0,0.0,0.0,0.0,0.0,0.0,0.0,0.0,0.0,0.0,0.0,0.0,0.0,0.0,0.0,0.0,0.0,0.0,0.0,0.0,0.0,0.0,0.0,0.0,0.0,0.0,0.0,0.0,0.0,0.0,0.0,0.0,0.0,0.0,0.0,0.0,0.0,0.0,0.0,0.0,0.0,0.0,0.0,0.0,0.0,0.0,0.0,0.0,0.0,0.0,0.0,0.0,0.0,0.0,0.0,0.0,0.0,0.0,0.0,0.0,0.0,0.0,0.0,0.0,0.0,0.0,0.0,0.0,0.002288329519450801,0.0038138825324180014,0.010678871090770405,0.012204424103737605,0.012967200610221205,0.015255530129672006,0.016018306636155607,0.017543859649122806,0.01906941266209001,0.020594965675057208,0.02288329519450801,0.02440884820747521,0.02517162471395881,0.02669717772692601,0.02822273073989321,0.029748283752860413,0.03737604881769641,0.03966437833714721,0.041952707856598014,0.04424103737604882,0.04958047292143402,0.05186880244088482,0.06178489702517163,0.06331045003813883,0.06864988558352403,0.07017543859649122,0.07780320366132723,0.08009153318077804,0.08466819221967964,0.08771929824561403,0.09305873379099924,0.09458428680396644,0.09763539282990084,0.09992372234935164,0.10221205186880244,0.10450038138825324,0.10526315789473684,0.10678871090770405,0.10983981693363844,0.11289092295957284,0.11441647597254005,0.11746758199847444,0.12204424103737604,0.13501144164759726,0.13653699466056446,0.13729977116704806,0.13882532418001525,0.14874141876430205,0.15026697177726925,0.15102974828375287,0.15255530129672007,0.15560640732265446,0.15713196033562166,0.15865751334858885,0.16170861937452327,0.16323417238749047,0.16628527841342486,0.16704805491990846,0.16933638443935928,0.17238749046529367,0.17391304347826086,0.17543859649122806,0.17696414950419528,0.18840579710144928,0.18993135011441648,0.1952707856598017,0.19832189168573608,0.2036613272311213,0.20671243325705568,0.21052631578947367,0.2135774218154081,0.21891685736079328,0.2227307398932113,0.22654462242562928,0.2288329519450801,0.2303585049580473,0.2318840579710145,0.2326468344774981,0.2341723874904653,0.2349351639969489,0.2379862700228833,0.2562929061784897,0.2608695652173913,0.26926010678871093,0.2707856598016781,0.2723112128146453,0.2753623188405797,0.2776506483600305,0.2799389778794813,0.2829900839054157,0.28451563691838294,0.28680396643783374,0.28909229595728453,0.2944317315026697,0.2959572845156369,0.2982456140350877,0.2997711670480549,0.3012967200610221,0.30282227307398935,0.30587337909992374,0.30739893211289093,0.3096872616323417,0.3112128146453089,0.3142639206712433,0.3173150266971777,0.32723112128146453,0.3302822273073989,0.3318077803203661,0.3340961098398169,0.33714721586575136,0.34019832189168575,0.34248665141113654,0.34401220442410374,0.34477498093058734,0.34630053394355453,0.35392829900839057,0.35621662852784136,0.35774218154080856,0.35926773455377575,0.36003051106025935,0.36155606407322655,0.36613272311212813,0.3684210526315789,0.3699466056445461,0.37223493516399697,0.37376048817696417,0.37528604118993136,0.37604881769641496,0.37833714721586575,0.38443935926773454,0.38596491228070173,0.3882532418001526,0.3897787948131198,0.391304347826087,0.39435545385202136,0.39588100686498856,0.39816933638443935,0.40122044241037375,0.40198321891685734,0.40503432494279173,0.4057971014492754,0.4088482074752098,0.4111365369946606,0.41266209000762777,0.41342486651411137,0.41571319603356216,0.41876430205949655,0.42028985507246375,0.4241037376048818,0.4271548436308162,0.4309687261632342,0.43249427917620137,0.43554538520213576,0.43935926773455375,0.4454614797864226,0.45156369183829137,0.4569031273836766,0.4584286803966438,0.459954233409611,0.463768115942029,0.4660564454614798,0.467581998474447,0.4683447749809306,0.47139588100686497,0.47368421052631576,0.479023646071701,0.4797864225781846,0.4813119755911518,0.482837528604119,0.4843630816170862,0.4881769641495042,0.4927536231884058,0.4935163996948894,0.4965675057208238,0.501906941266209,0.5034324942791762,0.5087719298245614,0.5118230358504958,0.513348588863463,0.5156369183829138,0.5202135774218154,0.5217391304347826,0.5232646834477498,0.524790236460717,0.5308924485125858,0.5369946605644547,0.5415713196033562,0.5423340961098398,0.543859649122807,0.5453852021357742,0.547673531655225,0.5491990846681922,0.5507246376811594,0.5522501906941266,0.5545385202135774,0.5583524027459954,0.5606407322654462,0.566742944317315,0.5690312738367659,0.5713196033562167,0.5736079328756675,0.5766590389016019,0.5789473684210527,0.5804729214340199,0.5842868039664378,0.5911517925247902,0.5926773455377574,0.597254004576659,0.6018306636155606,0.6071700991609459,0.6102212051868803,0.6147978642257819,0.6193745232646835,0.6216628527841342,0.6285278413424866,0.6300533943554538,0.6308161708619374,0.6338672768878718,0.6399694889397407,0.6414950419527079,0.6437833714721587,0.6468344774980931,0.6475972540045767,0.6498855835240275,0.6529366895499619,0.6552250190694127,0.6567505720823799,0.6598016781083142,0.6613272311212814,0.6636155606407322,0.6681922196796338,0.6712433257055682,0.6735316552250191,0.6750572082379863,0.6796338672768879,0.6849733028222731,0.6872616323417239,0.6880244088482075,0.6895499618611747,0.6941266209000763,0.6964149504195271,0.6987032799389779,0.7009916094584286,0.7025171624713958,0.704042715484363,0.7078565980167811,0.7086193745232647,0.7101449275362319,0.7116704805491991,0.7139588100686499,0.7154843630816171,0.7185354691075515,0.7192982456140351,0.7208237986270023,0.7215865751334859,0.7246376811594203,0.7284515636918383,0.7322654462242563,0.7360793287566743,0.738367658276125,0.7398932112890922,0.7414187643020596,0.7452326468344775,0.7490465293668955,0.7505720823798627,0.7513348588863463,0.7528604118993135,0.7536231884057971,0.7551487414187643,0.7559115179252479,0.7574370709382151,0.7597254004576659,0.7612509534706331,0.7650648360030511,0.7681159420289855,0.7696414950419527,0.7726926010678871,0.7795575896262396,0.7810831426392068,0.7833714721586575,0.7879481311975591,0.7902364607170099,0.7917620137299771,0.7932875667429443,0.7948131197559115,0.7955758962623951,0.7978642257818459,0.7993897787948131,0.8009153318077803,0.8024408848207475,0.8039664378337147,0.8085430968726163,0.8100686498855835,0.8115942028985508,0.8138825324180016,0.8154080854309688,0.8176964149504196,0.8199847444698704,0.8230358504958047,0.8276125095347063,0.8306636155606407,0.8367658276125095,0.8390541571319603,0.8405797101449275,0.8413424866514111,0.8443935926773455,0.84744469870328,0.8489702517162472,0.8520213577421816,0.855072463768116,0.8558352402745996,0.8573607932875668,0.8604118993135011,0.8642257818459191,0.8665141113653699,0.8688024408848207,0.8733790999237223,0.8749046529366895,0.8756674294431731,0.8787185354691075,0.8863463005339436,0.8878718535469108,0.889397406559878,0.8909229595728452,0.8916857360793288,0.893211289092296,0.8985507246376812,0.9031273836765827,0.9084668192219679,0.9115179252479023,0.9168573607932876,0.9183829138062548,0.9191456903127384,0.9206712433257056,0.9244851258581236,0.927536231884058,0.9305873379099924,0.9328756674294432,0.9359267734553776,0.9366895499618612,0.9382151029748284,0.9405034324942791,0.9427917620137299,0.9458428680396643,0.9488939740655988,0.950419527078566,0.9534706331045004,0.9572845156369184,0.9595728451563692,0.9626239511823036,0.9633867276887872,0.9649122807017544,0.9679633867276888,0.9702517162471396,0.9725400457665904,0.973302822273074,0.9748283752860412,0.9763539282990084,0.9862700228832952,0.9877955758962624,0.9931350114416476,1.0],\"y\":[0.0,0.012165450121654502,0.021897810218978103,0.0267639902676399,0.043795620437956206,0.046228710462287104,0.07542579075425791,0.0851581508515815,0.0948905109489051,0.09975669099756691,0.10948905109489052,0.12895377128953772,0.13381995133819952,0.1435523114355231,0.145985401459854,0.15085158150851583,0.1630170316301703,0.170316301703163,0.17274939172749393,0.18004866180048662,0.1897810218978102,0.19464720194647203,0.19708029197080293,0.20437956204379562,0.20681265206812652,0.2116788321167883,0.22141119221411193,0.22627737226277372,0.22871046228710462,0.2360097323600973,0.24817518248175183,0.25304136253041365,0.26034063260340634,0.26763990267639903,0.2895377128953771,0.2944038929440389,0.30656934306569344,0.31143552311435524,0.31630170316301703,0.32116788321167883,0.34306569343065696,0.34793187347931875,0.35523114355231145,0.36496350364963503,0.3746958637469586,0.3844282238442822,0.40145985401459855,0.40632603406326034,0.40875912408759124,0.41362530413625304,0.41605839416058393,0.4209245742092457,0.4257907542579075,0.43309002433090027,0.45985401459854014,0.46472019464720193,0.5012165450121655,0.5085158150851582,0.5328467153284672,0.537712895377129,0.5547445255474452,0.559610705596107,0.5742092457420924,0.5815085158150851,0.6082725060827251,0.6131386861313869,0.6277372262773723,0.6374695863746959,0.681265206812652,0.6885644768856448,0.6982968369829684,0.7031630170316302,0.7420924574209246,0.7566909975669099,0.7761557177615572,0.781021897810219,0.7907542579075426,0.7956204379562044,0.8004866180048662,0.805352798053528,0.8175182481751825,0.8223844282238443,0.8272506082725061,0.8321167883211679,0.8588807785888077,0.8637469586374696,0.8661800486618005,0.8710462287104623,0.8734793187347932,0.878345498783455,0.8807785888077859,0.8856447688564477,0.9002433090024331,0.9051094890510949,0.9513381995133819,0.9562043795620438,0.9854014598540146,1.0,1.0,1.0,1.0,1.0,1.0,1.0,1.0,1.0,1.0,1.0,1.0,1.0,1.0,1.0,1.0,1.0,1.0,1.0,1.0,1.0,1.0,1.0,1.0,1.0,1.0,1.0,1.0,1.0,1.0,1.0,1.0,1.0,1.0,1.0,1.0,1.0,1.0,1.0,1.0,1.0,1.0,1.0,1.0,1.0,1.0,1.0,1.0,1.0,1.0,1.0,1.0,1.0,1.0,1.0,1.0,1.0,1.0,1.0,1.0,1.0,1.0,1.0,1.0,1.0,1.0,1.0,1.0,1.0,1.0,1.0,1.0,1.0,1.0,1.0,1.0,1.0,1.0,1.0,1.0,1.0,1.0,1.0,1.0,1.0,1.0,1.0,1.0,1.0,1.0,1.0,1.0,1.0,1.0,1.0,1.0,1.0,1.0,1.0,1.0,1.0,1.0,1.0,1.0,1.0,1.0,1.0,1.0,1.0,1.0,1.0,1.0,1.0,1.0,1.0,1.0,1.0,1.0,1.0,1.0,1.0,1.0,1.0,1.0,1.0,1.0,1.0,1.0,1.0,1.0,1.0,1.0,1.0,1.0,1.0,1.0,1.0,1.0,1.0,1.0,1.0,1.0,1.0,1.0,1.0,1.0,1.0,1.0,1.0,1.0,1.0,1.0,1.0,1.0,1.0,1.0,1.0,1.0,1.0,1.0,1.0,1.0,1.0,1.0,1.0,1.0,1.0,1.0,1.0,1.0,1.0,1.0,1.0,1.0,1.0,1.0,1.0,1.0,1.0,1.0,1.0,1.0,1.0,1.0,1.0,1.0,1.0,1.0,1.0,1.0,1.0,1.0,1.0,1.0,1.0,1.0,1.0,1.0,1.0,1.0,1.0,1.0,1.0,1.0,1.0,1.0,1.0,1.0,1.0,1.0,1.0,1.0,1.0,1.0,1.0,1.0,1.0,1.0,1.0,1.0,1.0,1.0,1.0,1.0,1.0,1.0,1.0,1.0,1.0,1.0,1.0,1.0,1.0,1.0,1.0,1.0,1.0,1.0,1.0,1.0,1.0,1.0,1.0,1.0,1.0,1.0,1.0,1.0,1.0,1.0,1.0,1.0,1.0,1.0,1.0,1.0,1.0,1.0,1.0,1.0,1.0,1.0,1.0,1.0,1.0,1.0,1.0,1.0,1.0,1.0,1.0,1.0,1.0,1.0,1.0,1.0,1.0,1.0,1.0,1.0,1.0,1.0,1.0,1.0,1.0,1.0,1.0,1.0,1.0,1.0,1.0,1.0,1.0,1.0,1.0,1.0,1.0,1.0,1.0,1.0,1.0,1.0,1.0,1.0,1.0,1.0,1.0,1.0,1.0,1.0,1.0,1.0,1.0,1.0,1.0,1.0,1.0,1.0,1.0,1.0,1.0,1.0,1.0,1.0,1.0,1.0,1.0,1.0,1.0,1.0,1.0,1.0,1.0,1.0,1.0,1.0,1.0,1.0,1.0,1.0,1.0,1.0,1.0,1.0,1.0,1.0,1.0,1.0,1.0,1.0,1.0,1.0,1.0,1.0,1.0,1.0,1.0,1.0,1.0,1.0,1.0,1.0,1.0],\"type\":\"scatter\"},{\"mode\":\"markers+text\",\"name\":\"Threshold points\",\"text\":[\"Thr=2.00\",\"Thr=0.83\",\"Thr=0.56\",\"Thr=0.46\",\"Thr=0.39\",\"Thr=0.31\",\"Thr=0.26\",\"Thr=0.21\",\"Thr=0.17\",\"Thr=0.14\",\"Thr=0.09\",\"Thr=0.04\"],\"textposition\":\"top center\",\"x\":[0.0,0.0,0.0,0.06178489702517163,0.17696414950419528,0.3112128146453089,0.4111365369946606,0.5232646834477498,0.6475972540045767,0.7452326468344775,0.8390541571319603,0.9427917620137299],\"y\":[0.0,0.34306569343065696,0.8175182481751825,1.0,1.0,1.0,1.0,1.0,1.0,1.0,1.0,1.0],\"type\":\"scatter\"},{\"line\":{\"dash\":\"dash\"},\"mode\":\"lines\",\"name\":\"Random (Area=0.5)\",\"x\":[0,1],\"y\":[0,1],\"type\":\"scatter\"}],                        {\"autosize\":false,\"height\":800,\"showlegend\":false,\"title\":{\"text\":\"Receiver Operating Charactersitivcs\"},\"width\":800,\"xaxis\":{\"title\":{\"text\":\"False positive rate\"}},\"yaxis\":{\"title\":{\"text\":\"True positive rate\"}},\"template\":{\"data\":{\"histogram2dcontour\":[{\"type\":\"histogram2dcontour\",\"colorbar\":{\"outlinewidth\":0,\"ticks\":\"\"},\"colorscale\":[[0.0,\"#0d0887\"],[0.1111111111111111,\"#46039f\"],[0.2222222222222222,\"#7201a8\"],[0.3333333333333333,\"#9c179e\"],[0.4444444444444444,\"#bd3786\"],[0.5555555555555556,\"#d8576b\"],[0.6666666666666666,\"#ed7953\"],[0.7777777777777778,\"#fb9f3a\"],[0.8888888888888888,\"#fdca26\"],[1.0,\"#f0f921\"]]}],\"choropleth\":[{\"type\":\"choropleth\",\"colorbar\":{\"outlinewidth\":0,\"ticks\":\"\"}}],\"histogram2d\":[{\"type\":\"histogram2d\",\"colorbar\":{\"outlinewidth\":0,\"ticks\":\"\"},\"colorscale\":[[0.0,\"#0d0887\"],[0.1111111111111111,\"#46039f\"],[0.2222222222222222,\"#7201a8\"],[0.3333333333333333,\"#9c179e\"],[0.4444444444444444,\"#bd3786\"],[0.5555555555555556,\"#d8576b\"],[0.6666666666666666,\"#ed7953\"],[0.7777777777777778,\"#fb9f3a\"],[0.8888888888888888,\"#fdca26\"],[1.0,\"#f0f921\"]]}],\"heatmap\":[{\"type\":\"heatmap\",\"colorbar\":{\"outlinewidth\":0,\"ticks\":\"\"},\"colorscale\":[[0.0,\"#0d0887\"],[0.1111111111111111,\"#46039f\"],[0.2222222222222222,\"#7201a8\"],[0.3333333333333333,\"#9c179e\"],[0.4444444444444444,\"#bd3786\"],[0.5555555555555556,\"#d8576b\"],[0.6666666666666666,\"#ed7953\"],[0.7777777777777778,\"#fb9f3a\"],[0.8888888888888888,\"#fdca26\"],[1.0,\"#f0f921\"]]}],\"heatmapgl\":[{\"type\":\"heatmapgl\",\"colorbar\":{\"outlinewidth\":0,\"ticks\":\"\"},\"colorscale\":[[0.0,\"#0d0887\"],[0.1111111111111111,\"#46039f\"],[0.2222222222222222,\"#7201a8\"],[0.3333333333333333,\"#9c179e\"],[0.4444444444444444,\"#bd3786\"],[0.5555555555555556,\"#d8576b\"],[0.6666666666666666,\"#ed7953\"],[0.7777777777777778,\"#fb9f3a\"],[0.8888888888888888,\"#fdca26\"],[1.0,\"#f0f921\"]]}],\"contourcarpet\":[{\"type\":\"contourcarpet\",\"colorbar\":{\"outlinewidth\":0,\"ticks\":\"\"}}],\"contour\":[{\"type\":\"contour\",\"colorbar\":{\"outlinewidth\":0,\"ticks\":\"\"},\"colorscale\":[[0.0,\"#0d0887\"],[0.1111111111111111,\"#46039f\"],[0.2222222222222222,\"#7201a8\"],[0.3333333333333333,\"#9c179e\"],[0.4444444444444444,\"#bd3786\"],[0.5555555555555556,\"#d8576b\"],[0.6666666666666666,\"#ed7953\"],[0.7777777777777778,\"#fb9f3a\"],[0.8888888888888888,\"#fdca26\"],[1.0,\"#f0f921\"]]}],\"surface\":[{\"type\":\"surface\",\"colorbar\":{\"outlinewidth\":0,\"ticks\":\"\"},\"colorscale\":[[0.0,\"#0d0887\"],[0.1111111111111111,\"#46039f\"],[0.2222222222222222,\"#7201a8\"],[0.3333333333333333,\"#9c179e\"],[0.4444444444444444,\"#bd3786\"],[0.5555555555555556,\"#d8576b\"],[0.6666666666666666,\"#ed7953\"],[0.7777777777777778,\"#fb9f3a\"],[0.8888888888888888,\"#fdca26\"],[1.0,\"#f0f921\"]]}],\"mesh3d\":[{\"type\":\"mesh3d\",\"colorbar\":{\"outlinewidth\":0,\"ticks\":\"\"}}],\"scatter\":[{\"fillpattern\":{\"fillmode\":\"overlay\",\"size\":10,\"solidity\":0.2},\"type\":\"scatter\"}],\"parcoords\":[{\"type\":\"parcoords\",\"line\":{\"colorbar\":{\"outlinewidth\":0,\"ticks\":\"\"}}}],\"scatterpolargl\":[{\"type\":\"scatterpolargl\",\"marker\":{\"colorbar\":{\"outlinewidth\":0,\"ticks\":\"\"}}}],\"bar\":[{\"error_x\":{\"color\":\"#2a3f5f\"},\"error_y\":{\"color\":\"#2a3f5f\"},\"marker\":{\"line\":{\"color\":\"#E5ECF6\",\"width\":0.5},\"pattern\":{\"fillmode\":\"overlay\",\"size\":10,\"solidity\":0.2}},\"type\":\"bar\"}],\"scattergeo\":[{\"type\":\"scattergeo\",\"marker\":{\"colorbar\":{\"outlinewidth\":0,\"ticks\":\"\"}}}],\"scatterpolar\":[{\"type\":\"scatterpolar\",\"marker\":{\"colorbar\":{\"outlinewidth\":0,\"ticks\":\"\"}}}],\"histogram\":[{\"marker\":{\"pattern\":{\"fillmode\":\"overlay\",\"size\":10,\"solidity\":0.2}},\"type\":\"histogram\"}],\"scattergl\":[{\"type\":\"scattergl\",\"marker\":{\"colorbar\":{\"outlinewidth\":0,\"ticks\":\"\"}}}],\"scatter3d\":[{\"type\":\"scatter3d\",\"line\":{\"colorbar\":{\"outlinewidth\":0,\"ticks\":\"\"}},\"marker\":{\"colorbar\":{\"outlinewidth\":0,\"ticks\":\"\"}}}],\"scattermapbox\":[{\"type\":\"scattermapbox\",\"marker\":{\"colorbar\":{\"outlinewidth\":0,\"ticks\":\"\"}}}],\"scatterternary\":[{\"type\":\"scatterternary\",\"marker\":{\"colorbar\":{\"outlinewidth\":0,\"ticks\":\"\"}}}],\"scattercarpet\":[{\"type\":\"scattercarpet\",\"marker\":{\"colorbar\":{\"outlinewidth\":0,\"ticks\":\"\"}}}],\"carpet\":[{\"aaxis\":{\"endlinecolor\":\"#2a3f5f\",\"gridcolor\":\"white\",\"linecolor\":\"white\",\"minorgridcolor\":\"white\",\"startlinecolor\":\"#2a3f5f\"},\"baxis\":{\"endlinecolor\":\"#2a3f5f\",\"gridcolor\":\"white\",\"linecolor\":\"white\",\"minorgridcolor\":\"white\",\"startlinecolor\":\"#2a3f5f\"},\"type\":\"carpet\"}],\"table\":[{\"cells\":{\"fill\":{\"color\":\"#EBF0F8\"},\"line\":{\"color\":\"white\"}},\"header\":{\"fill\":{\"color\":\"#C8D4E3\"},\"line\":{\"color\":\"white\"}},\"type\":\"table\"}],\"barpolar\":[{\"marker\":{\"line\":{\"color\":\"#E5ECF6\",\"width\":0.5},\"pattern\":{\"fillmode\":\"overlay\",\"size\":10,\"solidity\":0.2}},\"type\":\"barpolar\"}],\"pie\":[{\"automargin\":true,\"type\":\"pie\"}]},\"layout\":{\"autotypenumbers\":\"strict\",\"colorway\":[\"#636efa\",\"#EF553B\",\"#00cc96\",\"#ab63fa\",\"#FFA15A\",\"#19d3f3\",\"#FF6692\",\"#B6E880\",\"#FF97FF\",\"#FECB52\"],\"font\":{\"color\":\"#2a3f5f\"},\"hovermode\":\"closest\",\"hoverlabel\":{\"align\":\"left\"},\"paper_bgcolor\":\"white\",\"plot_bgcolor\":\"#E5ECF6\",\"polar\":{\"bgcolor\":\"#E5ECF6\",\"angularaxis\":{\"gridcolor\":\"white\",\"linecolor\":\"white\",\"ticks\":\"\"},\"radialaxis\":{\"gridcolor\":\"white\",\"linecolor\":\"white\",\"ticks\":\"\"}},\"ternary\":{\"bgcolor\":\"#E5ECF6\",\"aaxis\":{\"gridcolor\":\"white\",\"linecolor\":\"white\",\"ticks\":\"\"},\"baxis\":{\"gridcolor\":\"white\",\"linecolor\":\"white\",\"ticks\":\"\"},\"caxis\":{\"gridcolor\":\"white\",\"linecolor\":\"white\",\"ticks\":\"\"}},\"coloraxis\":{\"colorbar\":{\"outlinewidth\":0,\"ticks\":\"\"}},\"colorscale\":{\"sequential\":[[0.0,\"#0d0887\"],[0.1111111111111111,\"#46039f\"],[0.2222222222222222,\"#7201a8\"],[0.3333333333333333,\"#9c179e\"],[0.4444444444444444,\"#bd3786\"],[0.5555555555555556,\"#d8576b\"],[0.6666666666666666,\"#ed7953\"],[0.7777777777777778,\"#fb9f3a\"],[0.8888888888888888,\"#fdca26\"],[1.0,\"#f0f921\"]],\"sequentialminus\":[[0.0,\"#0d0887\"],[0.1111111111111111,\"#46039f\"],[0.2222222222222222,\"#7201a8\"],[0.3333333333333333,\"#9c179e\"],[0.4444444444444444,\"#bd3786\"],[0.5555555555555556,\"#d8576b\"],[0.6666666666666666,\"#ed7953\"],[0.7777777777777778,\"#fb9f3a\"],[0.8888888888888888,\"#fdca26\"],[1.0,\"#f0f921\"]],\"diverging\":[[0,\"#8e0152\"],[0.1,\"#c51b7d\"],[0.2,\"#de77ae\"],[0.3,\"#f1b6da\"],[0.4,\"#fde0ef\"],[0.5,\"#f7f7f7\"],[0.6,\"#e6f5d0\"],[0.7,\"#b8e186\"],[0.8,\"#7fbc41\"],[0.9,\"#4d9221\"],[1,\"#276419\"]]},\"xaxis\":{\"gridcolor\":\"white\",\"linecolor\":\"white\",\"ticks\":\"\",\"title\":{\"standoff\":15},\"zerolinecolor\":\"white\",\"automargin\":true,\"zerolinewidth\":2},\"yaxis\":{\"gridcolor\":\"white\",\"linecolor\":\"white\",\"ticks\":\"\",\"title\":{\"standoff\":15},\"zerolinecolor\":\"white\",\"automargin\":true,\"zerolinewidth\":2},\"scene\":{\"xaxis\":{\"backgroundcolor\":\"#E5ECF6\",\"gridcolor\":\"white\",\"linecolor\":\"white\",\"showbackground\":true,\"ticks\":\"\",\"zerolinecolor\":\"white\",\"gridwidth\":2},\"yaxis\":{\"backgroundcolor\":\"#E5ECF6\",\"gridcolor\":\"white\",\"linecolor\":\"white\",\"showbackground\":true,\"ticks\":\"\",\"zerolinecolor\":\"white\",\"gridwidth\":2},\"zaxis\":{\"backgroundcolor\":\"#E5ECF6\",\"gridcolor\":\"white\",\"linecolor\":\"white\",\"showbackground\":true,\"ticks\":\"\",\"zerolinecolor\":\"white\",\"gridwidth\":2}},\"shapedefaults\":{\"line\":{\"color\":\"#2a3f5f\"}},\"annotationdefaults\":{\"arrowcolor\":\"#2a3f5f\",\"arrowhead\":0,\"arrowwidth\":1},\"geo\":{\"bgcolor\":\"white\",\"landcolor\":\"#E5ECF6\",\"subunitcolor\":\"white\",\"showland\":true,\"showlakes\":true,\"lakecolor\":\"white\"},\"title\":{\"x\":0.05},\"mapbox\":{\"style\":\"light\"}}}},                        {\"responsive\": true}                    ).then(function(){\n",
       "                            \n",
       "var gd = document.getElementById('38ca7043-86eb-40b0-89d6-ca6aa80b9f32');\n",
       "var x = new MutationObserver(function (mutations, observer) {{\n",
       "        var display = window.getComputedStyle(gd).display;\n",
       "        if (!display || display === 'none') {{\n",
       "            console.log([gd, 'removed!']);\n",
       "            Plotly.purge(gd);\n",
       "            observer.disconnect();\n",
       "        }}\n",
       "}});\n",
       "\n",
       "// Listen for the removal of the full notebook cells\n",
       "var notebookContainer = gd.closest('#notebook-container');\n",
       "if (notebookContainer) {{\n",
       "    x.observe(notebookContainer, {childList: true});\n",
       "}}\n",
       "\n",
       "// Listen for the clearing of the current output cell\n",
       "var outputEl = gd.closest('.output');\n",
       "if (outputEl) {{\n",
       "    x.observe(outputEl, {childList: true});\n",
       "}}\n",
       "\n",
       "                        })                };                });            </script>        </div>"
      ]
     },
     "metadata": {},
     "output_type": "display_data"
    }
   ],
   "source": [
    "import plotly.graph_objects as go\n",
    "\n",
    "# generate a trace for roc curve\n",
    "trace0 = go.Scatter(\n",
    "    x=fpr,\n",
    "    y=tpr,\n",
    "    mode='lines',\n",
    "    name='ROC curve'\n",
    ")\n",
    "\n",
    "#only label every nth point to avoid cluttering\n",
    "n=40\n",
    "indices = np.arange(len(thresholds))%n==0 #choose index where n is zero\n",
    "\n",
    "trace1=go.Scatter(\n",
    "    x=fpr[indices],\n",
    "    y=tpr[indices],\n",
    "    mode='markers+text',\n",
    "    name='Threshold points',\n",
    "    text=[f\"Thr={thr:.2f}\" for thr in thresholds[indices]],\n",
    "    textposition='top center'\n",
    ")\n",
    "\n",
    "# diagonal line\n",
    "trace2=go.Scatter(\n",
    "    x=[0,1],\n",
    "    y=[0,1],\n",
    "    mode='lines',\n",
    "    name='Random (Area=0.5)',\n",
    "    line=dict(dash='dash')\n",
    ")\n",
    "data=[trace0,trace1,trace2]\n",
    "\n",
    "#Define layout with square aspect ratio\n",
    "layout=go.Layout(\n",
    "    title='Receiver Operating Charactersitivcs',\n",
    "    xaxis=dict(title='False positive rate'),\n",
    "    yaxis=dict(title='True positive rate'),\n",
    "    autosize=False,\n",
    "    width=800,\n",
    "    height=800,\n",
    "    showlegend=False\n",
    ")\n",
    "# define the figure and add data\n",
    "fig=go.Figure(data=data,layout=layout)\n",
    "fig.show()"
   ]
  },
  {
   "cell_type": "code",
   "execution_count": 210,
   "metadata": {},
   "outputs": [
    {
     "ename": "ValueError",
     "evalue": "Classification metrics can't handle a mix of unknown and binary targets",
     "output_type": "error",
     "traceback": [
      "\u001b[1;31m---------------------------------------------------------------------------\u001b[0m",
      "\u001b[1;31mValueError\u001b[0m                                Traceback (most recent call last)",
      "Cell \u001b[1;32mIn[210], line 15\u001b[0m\n\u001b[0;32m     12\u001b[0m y_pred \u001b[38;5;241m=\u001b[39m (y_pred_prob \u001b[38;5;241m>\u001b[39m\u001b[38;5;241m=\u001b[39m \u001b[38;5;241m0.5\u001b[39m)\u001b[38;5;241m.\u001b[39mastype(\u001b[38;5;28mint\u001b[39m)  \u001b[38;5;66;03m# or any other threshold you prefer\u001b[39;00m\n\u001b[0;32m     14\u001b[0m \u001b[38;5;66;03m# Compute confusion matrix using y_pred instead of y_pred_prob\u001b[39;00m\n\u001b[1;32m---> 15\u001b[0m conf_matrix \u001b[38;5;241m=\u001b[39m confusion_matrix(y_true, y_pred)\n\u001b[0;32m     17\u001b[0m \u001b[38;5;66;03m# Plot confusion matrix as a heatmap\u001b[39;00m\n\u001b[0;32m     18\u001b[0m plt\u001b[38;5;241m.\u001b[39mfigure(figsize\u001b[38;5;241m=\u001b[39m(\u001b[38;5;241m8\u001b[39m, \u001b[38;5;241m6\u001b[39m))\n",
      "File \u001b[1;32m~\\anaconda3\\Lib\\site-packages\\sklearn\\metrics\\_classification.py:317\u001b[0m, in \u001b[0;36mconfusion_matrix\u001b[1;34m(y_true, y_pred, labels, sample_weight, normalize)\u001b[0m\n\u001b[0;32m    232\u001b[0m \u001b[38;5;28;01mdef\u001b[39;00m \u001b[38;5;21mconfusion_matrix\u001b[39m(\n\u001b[0;32m    233\u001b[0m     y_true, y_pred, \u001b[38;5;241m*\u001b[39m, labels\u001b[38;5;241m=\u001b[39m\u001b[38;5;28;01mNone\u001b[39;00m, sample_weight\u001b[38;5;241m=\u001b[39m\u001b[38;5;28;01mNone\u001b[39;00m, normalize\u001b[38;5;241m=\u001b[39m\u001b[38;5;28;01mNone\u001b[39;00m\n\u001b[0;32m    234\u001b[0m ):\n\u001b[0;32m    235\u001b[0m \u001b[38;5;250m    \u001b[39m\u001b[38;5;124;03m\"\"\"Compute confusion matrix to evaluate the accuracy of a classification.\u001b[39;00m\n\u001b[0;32m    236\u001b[0m \n\u001b[0;32m    237\u001b[0m \u001b[38;5;124;03m    By definition a confusion matrix :math:`C` is such that :math:`C_{i, j}`\u001b[39;00m\n\u001b[1;32m   (...)\u001b[0m\n\u001b[0;32m    315\u001b[0m \u001b[38;5;124;03m    (0, 2, 1, 1)\u001b[39;00m\n\u001b[0;32m    316\u001b[0m \u001b[38;5;124;03m    \"\"\"\u001b[39;00m\n\u001b[1;32m--> 317\u001b[0m     y_type, y_true, y_pred \u001b[38;5;241m=\u001b[39m _check_targets(y_true, y_pred)\n\u001b[0;32m    318\u001b[0m     \u001b[38;5;28;01mif\u001b[39;00m y_type \u001b[38;5;129;01mnot\u001b[39;00m \u001b[38;5;129;01min\u001b[39;00m (\u001b[38;5;124m\"\u001b[39m\u001b[38;5;124mbinary\u001b[39m\u001b[38;5;124m\"\u001b[39m, \u001b[38;5;124m\"\u001b[39m\u001b[38;5;124mmulticlass\u001b[39m\u001b[38;5;124m\"\u001b[39m):\n\u001b[0;32m    319\u001b[0m         \u001b[38;5;28;01mraise\u001b[39;00m \u001b[38;5;167;01mValueError\u001b[39;00m(\u001b[38;5;124m\"\u001b[39m\u001b[38;5;132;01m%s\u001b[39;00m\u001b[38;5;124m is not supported\u001b[39m\u001b[38;5;124m\"\u001b[39m \u001b[38;5;241m%\u001b[39m y_type)\n",
      "File \u001b[1;32m~\\anaconda3\\Lib\\site-packages\\sklearn\\metrics\\_classification.py:95\u001b[0m, in \u001b[0;36m_check_targets\u001b[1;34m(y_true, y_pred)\u001b[0m\n\u001b[0;32m     92\u001b[0m     y_type \u001b[38;5;241m=\u001b[39m {\u001b[38;5;124m\"\u001b[39m\u001b[38;5;124mmulticlass\u001b[39m\u001b[38;5;124m\"\u001b[39m}\n\u001b[0;32m     94\u001b[0m \u001b[38;5;28;01mif\u001b[39;00m \u001b[38;5;28mlen\u001b[39m(y_type) \u001b[38;5;241m>\u001b[39m \u001b[38;5;241m1\u001b[39m:\n\u001b[1;32m---> 95\u001b[0m     \u001b[38;5;28;01mraise\u001b[39;00m \u001b[38;5;167;01mValueError\u001b[39;00m(\n\u001b[0;32m     96\u001b[0m         \u001b[38;5;124m\"\u001b[39m\u001b[38;5;124mClassification metrics can\u001b[39m\u001b[38;5;124m'\u001b[39m\u001b[38;5;124mt handle a mix of \u001b[39m\u001b[38;5;132;01m{0}\u001b[39;00m\u001b[38;5;124m and \u001b[39m\u001b[38;5;132;01m{1}\u001b[39;00m\u001b[38;5;124m targets\u001b[39m\u001b[38;5;124m\"\u001b[39m\u001b[38;5;241m.\u001b[39mformat(\n\u001b[0;32m     97\u001b[0m             type_true, type_pred\n\u001b[0;32m     98\u001b[0m         )\n\u001b[0;32m     99\u001b[0m     )\n\u001b[0;32m    101\u001b[0m \u001b[38;5;66;03m# We can't have more than one value on y_type => The set is no more needed\u001b[39;00m\n\u001b[0;32m    102\u001b[0m y_type \u001b[38;5;241m=\u001b[39m y_type\u001b[38;5;241m.\u001b[39mpop()\n",
      "\u001b[1;31mValueError\u001b[0m: Classification metrics can't handle a mix of unknown and binary targets"
     ]
    }
   ],
   "source": [
    "from sklearn.metrics import confusion_matrix\n",
    "import seaborn as sns\n",
    "import matplotlib.pyplot as plt\n",
    "\n",
    "# Assigning true labels to y_true\n",
    "y_true = df['Predicted classification']\n",
    "\n",
    "# Assigning predicted probabilities to y_pred_prob\n",
    "y_pred_prob = df['Predicted positive probability']  # or 'Predicted negative probability'\n",
    "\n",
    "# Thresholding the predicted probabilities to obtain binary predictions\n",
    "y_pred = (y_pred_prob >= 0.5).astype(int)  # or any other threshold you prefer\n",
    "\n",
    "# Compute confusion matrix using y_pred instead of y_pred_prob\n",
    "conf_matrix = confusion_matrix(y_true, y_pred)\n",
    "\n",
    "# Plot confusion matrix as a heatmap\n",
    "plt.figure(figsize=(8, 6))\n",
    "sns.heatmap(conf_matrix, annot=True, fmt='d', cmap='Blues', cbar=False)\n",
    "plt.xlabel('Predicted labels')\n",
    "plt.ylabel('True labels')\n",
    "plt.title('Confusion Matrix')\n",
    "plt.show()\n"
   ]
  },
  {
   "cell_type": "code",
   "execution_count": null,
   "metadata": {},
   "outputs": [],
   "source": [
    "df_predicted.columns"
   ]
  },
  {
   "cell_type": "code",
   "execution_count": null,
   "metadata": {},
   "outputs": [],
   "source": []
  },
  {
   "cell_type": "code",
   "execution_count": null,
   "metadata": {},
   "outputs": [],
   "source": []
  },
  {
   "cell_type": "code",
   "execution_count": null,
   "metadata": {},
   "outputs": [],
   "source": []
  },
  {
   "cell_type": "code",
   "execution_count": null,
   "metadata": {},
   "outputs": [],
   "source": []
  },
  {
   "cell_type": "code",
   "execution_count": null,
   "metadata": {},
   "outputs": [],
   "source": []
  },
  {
   "cell_type": "code",
   "execution_count": null,
   "metadata": {},
   "outputs": [],
   "source": []
  },
  {
   "cell_type": "code",
   "execution_count": null,
   "metadata": {},
   "outputs": [],
   "source": []
  },
  {
   "cell_type": "code",
   "execution_count": null,
   "metadata": {},
   "outputs": [],
   "source": []
  },
  {
   "cell_type": "code",
   "execution_count": null,
   "metadata": {},
   "outputs": [],
   "source": []
  },
  {
   "cell_type": "code",
   "execution_count": null,
   "metadata": {},
   "outputs": [],
   "source": []
  },
  {
   "cell_type": "code",
   "execution_count": null,
   "metadata": {},
   "outputs": [],
   "source": []
  },
  {
   "cell_type": "code",
   "execution_count": null,
   "metadata": {},
   "outputs": [],
   "source": []
  },
  {
   "cell_type": "code",
   "execution_count": null,
   "metadata": {},
   "outputs": [],
   "source": []
  }
 ],
 "metadata": {
  "kernelspec": {
   "display_name": "Python 3 (ipykernel)",
   "language": "python",
   "name": "python3"
  },
  "language_info": {
   "codemirror_mode": {
    "name": "ipython",
    "version": 3
   },
   "file_extension": ".py",
   "mimetype": "text/x-python",
   "name": "python",
   "nbconvert_exporter": "python",
   "pygments_lexer": "ipython3",
   "version": "3.11.7"
  }
 },
 "nbformat": 4,
 "nbformat_minor": 4
}
